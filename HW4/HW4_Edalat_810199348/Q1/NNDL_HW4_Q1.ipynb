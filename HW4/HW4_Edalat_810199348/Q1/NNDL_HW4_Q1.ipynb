{
  "nbformat": 4,
  "nbformat_minor": 0,
  "metadata": {
    "colab": {
      "name": "NNDL_HW4_Q1.ipynb",
      "provenance": [],
      "collapsed_sections": []
    },
    "kernelspec": {
      "name": "python3",
      "display_name": "Python 3"
    },
    "language_info": {
      "name": "python"
    }
  },
  "cells": [
    {
      "cell_type": "code",
      "metadata": {
        "id": "aWtprDMxqprl"
      },
      "source": [
        "import numpy as np\n",
        "import matplotlib.pyplot as plt"
      ],
      "execution_count": null,
      "outputs": []
    },
    {
      "cell_type": "code",
      "metadata": {
        "id": "z8wmrYxIrAdm"
      },
      "source": [
        "import keras\n",
        "from keras.datasets import mnist\n",
        "\n",
        "(X_train, y_train), (X_test, y_test) = mnist.load_data()"
      ],
      "execution_count": null,
      "outputs": []
    },
    {
      "cell_type": "code",
      "metadata": {
        "id": "sV3WL9mHxzuU"
      },
      "source": [
        "ids = [[] for i in range(10)]\n",
        "for i in range(len(y_train)):\n",
        "  ids[y_train[i]].append(i)"
      ],
      "execution_count": null,
      "outputs": []
    },
    {
      "cell_type": "code",
      "metadata": {
        "id": "QmbRZatmy2l-"
      },
      "source": [
        "\n",
        "x_tr = []\n",
        "y_tr = []\n",
        "pis = [list(np.random.choice(ids[i], 200, replace=False)) for i in range(10)]\n",
        "\n",
        "for i in pis:\n",
        "  for j in i:\n",
        "    x_tr.append(X_train[j])\n",
        "    y_tr.append(y_train[j])"
      ],
      "execution_count": null,
      "outputs": []
    },
    {
      "cell_type": "code",
      "metadata": {
        "id": "h-V8ITe_1T4u"
      },
      "source": [
        "ids = [[] for i in range(10)]\n",
        "for i in range(len(y_test)):\n",
        "  ids[y_test[i]].append(i)"
      ],
      "execution_count": null,
      "outputs": []
    },
    {
      "cell_type": "code",
      "metadata": {
        "id": "k4v6RLLK1ct_"
      },
      "source": [
        "\n",
        "x_te = []\n",
        "y_te = []\n",
        "pis = [list(np.random.choice(ids[i], 100, replace=False)) for i in range(10)]\n",
        "\n",
        "for i in pis:\n",
        "  for j in i:\n",
        "    x_te.append(X_test[j])\n",
        "    y_te.append(y_test[j])"
      ],
      "execution_count": null,
      "outputs": []
    },
    {
      "cell_type": "code",
      "metadata": {
        "id": "zXelC_P11yEy"
      },
      "source": [
        "X_train = np.array(x_tr)\n",
        "X_test = np.array(x_te)\n",
        "\n",
        "y_train = np.array(y_tr)\n",
        "y_test = np.array(y_te)"
      ],
      "execution_count": null,
      "outputs": []
    },
    {
      "cell_type": "code",
      "metadata": {
        "colab": {
          "base_uri": "https://localhost:8080/",
          "height": 283
        },
        "id": "Kxhxm5YR2Vkn",
        "outputId": "4b4c4f3f-4ee9-4149-e99b-0c0a466aae8a"
      },
      "source": [
        "plt.imshow(X_train[600], cmap='gray'), y_train[600]"
      ],
      "execution_count": null,
      "outputs": [
        {
          "output_type": "execute_result",
          "data": {
            "text/plain": [
              "(<matplotlib.image.AxesImage at 0x7ff045eea6d0>, 3)"
            ]
          },
          "metadata": {
            "tags": []
          },
          "execution_count": 8
        },
        {
          "output_type": "display_data",
          "data": {
            "image/png": "[encoded data removed]",
            "text/plain": [
              "<Figure size 432x288 with 1 Axes>"
            ]
          },
          "metadata": {
            "tags": [],
            "needs_background": "light"
          }
        }
      ]
    },
    {
      "cell_type": "code",
      "metadata": {
        "id": "3eGsZ8vV2_ep"
      },
      "source": [
        "from sklearn.utils import shuffle\n",
        "X_train, y_train = shuffle(X_train, y_train, random_state=0)\n",
        "X_test, y_test = shuffle(X_test, y_test, random_state=0)"
      ],
      "execution_count": null,
      "outputs": []
    },
    {
      "cell_type": "code",
      "metadata": {
        "id": "pbMUsyHOjuuk"
      },
      "source": [
        "# Change to float datatype\n",
        "X_train = X_train.astype('float32')\n",
        "X_test = X_test.astype('float32')\n",
        "\n",
        "# Noramlization from [0;255] to [0;1], Scale the data to lie between 0 to 1\n",
        "X_train /= 255\n",
        "X_test /= 255"
      ],
      "execution_count": null,
      "outputs": []
    },
    {
      "cell_type": "code",
      "metadata": {
        "id": "NQRtYYCKdrbk"
      },
      "source": [
        "def neighborhood(j, r, m, t='l'):\n",
        "  if t == 'l':\n",
        "    res = []\n",
        "    for i in range(m):\n",
        "      if i >= j-r and i <= j+r:\n",
        "        res.append(i)\n",
        "    return res\n",
        "  else:\n",
        "    res = []\n",
        "    for i in range(m):\n",
        "      if (i%25) >= (j%25)-r and (i%25) <= (j%25)+r and int(i/25) >= int(j/25)-r and int(i/25) <= int(j/25)+r:\n",
        "        res.append(i)\n",
        "    return res"
      ],
      "execution_count": null,
      "outputs": []
    },
    {
      "cell_type": "code",
      "metadata": {
        "id": "rx0wgn3A3paU"
      },
      "source": [
        "def som(xs, t='l', m=625, r=0, a=0.6):\n",
        "  ws = np.random.rand(len(xs[0].reshape(-1)),m)\n",
        "  t = 0\n",
        "  while t < 10:\n",
        "    print('epoch ', t)\n",
        "    print('a = ', a, ' r = ', r)\n",
        "    for x in xs:\n",
        "      itx = x.reshape(1,-1).T\n",
        "      ds = np.sum((ws-itx)**2, axis=0)\n",
        "      j = np.argmin(ds)\n",
        "      js = neighborhood(j, r, m, t=t)\n",
        "      for j in js:\n",
        "        for i in range(ws.shape[0]):\n",
        "          ws[i][j] += a*(itx[i][0]-ws[i][j])\n",
        "    a *= 0.5\n",
        "    r = int(r*0.5)\n",
        "    t += 1\n",
        "  \n",
        "  return ws"
      ],
      "execution_count": null,
      "outputs": []
    },
    {
      "cell_type": "code",
      "metadata": {
        "colab": {
          "base_uri": "https://localhost:8080/"
        },
        "id": "1BXF8j9HsYeJ",
        "outputId": "2d04182d-c52d-44cf-d837-de96a7d24f60"
      },
      "source": [
        "ws = som(X_train, t='l', m=625, r=0, a=0.6)"
      ],
      "execution_count": null,
      "outputs": [
        {
          "output_type": "stream",
          "text": [
            "epoch  0\n",
            "a =  0.6  r =  0\n",
            "epoch  1\n",
            "a =  0.3  r =  0\n",
            "epoch  2\n",
            "a =  0.15  r =  0\n",
            "epoch  3\n",
            "a =  0.075  r =  0\n",
            "epoch  4\n",
            "a =  0.0375  r =  0\n",
            "epoch  5\n",
            "a =  0.01875  r =  0\n",
            "epoch  6\n",
            "a =  0.009375  r =  0\n",
            "epoch  7\n",
            "a =  0.0046875  r =  0\n",
            "epoch  8\n",
            "a =  0.00234375  r =  0\n",
            "epoch  9\n",
            "a =  0.001171875  r =  0\n"
          ],
          "name": "stdout"
        }
      ]
    },
    {
      "cell_type": "code",
      "metadata": {
        "id": "d1DdPSxMy09I"
      },
      "source": [
        "def predict(xa, ya, ws):\n",
        "  res = [[] for i in range(ws.shape[1])]\n",
        "  for i, x in enumerate(xa):\n",
        "      itx = x.reshape(1,-1).T\n",
        "      ds = np.sum((ws-itx)**2, axis=0)\n",
        "      j = np.argmin(ds)\n",
        "      res[j].append(ya[i])\n",
        "\n",
        "  return res"
      ],
      "execution_count": null,
      "outputs": []
    },
    {
      "cell_type": "code",
      "metadata": {
        "id": "GNgOO0xHzij-"
      },
      "source": [
        "preds = predict(X_test, y_test, ws)"
      ],
      "execution_count": null,
      "outputs": []
    },
    {
      "cell_type": "code",
      "metadata": {
        "colab": {
          "base_uri": "https://localhost:8080/",
          "height": 130
        },
        "id": "O44xb-5vNuC2",
        "outputId": "4800337c-9790-431a-80d1-5bb008f33f7e"
      },
      "source": [
        "import pandas as pd\n",
        "\n",
        "clusters = []\n",
        "for i in preds:\n",
        "  if len(i) > 0:\n",
        "    clusters.append(i)\n",
        "\n",
        "pd.DataFrame(clusters)"
      ],
      "execution_count": null,
      "outputs": [
        {
          "output_type": "execute_result",
          "data": {
            "text/html": [
              "<div>\n",
              "<style scoped>\n",
              "    .dataframe tbody tr th:only-of-type {\n",
              "        vertical-align: middle;\n",
              "    }\n",
              "\n",
              "    .dataframe tbody tr th {\n",
              "        vertical-align: top;\n",
              "    }\n",
              "\n",
              "    .dataframe thead th {\n",
              "        text-align: right;\n",
              "    }\n",
              "</style>\n",
              "<table border=\"1\" class=\"dataframe\">\n",
              "  <thead>\n",
              "    <tr style=\"text-align: right;\">\n",
              "      <th></th>\n",
              "      <th>0</th>\n",
              "      <th>1</th>\n",
              "      <th>2</th>\n",
              "      <th>3</th>\n",
              "      <th>4</th>\n",
              "      <th>5</th>\n",
              "      <th>6</th>\n",
              "      <th>7</th>\n",
              "      <th>8</th>\n",
              "      <th>9</th>\n",
              "      <th>10</th>\n",
              "      <th>11</th>\n",
              "      <th>12</th>\n",
              "      <th>13</th>\n",
              "      <th>14</th>\n",
              "      <th>15</th>\n",
              "      <th>16</th>\n",
              "      <th>17</th>\n",
              "      <th>18</th>\n",
              "      <th>19</th>\n",
              "      <th>20</th>\n",
              "      <th>21</th>\n",
              "      <th>22</th>\n",
              "      <th>23</th>\n",
              "      <th>24</th>\n",
              "      <th>25</th>\n",
              "      <th>26</th>\n",
              "      <th>27</th>\n",
              "      <th>28</th>\n",
              "      <th>29</th>\n",
              "      <th>30</th>\n",
              "      <th>31</th>\n",
              "      <th>32</th>\n",
              "      <th>33</th>\n",
              "      <th>34</th>\n",
              "      <th>35</th>\n",
              "      <th>36</th>\n",
              "      <th>37</th>\n",
              "      <th>38</th>\n",
              "      <th>39</th>\n",
              "      <th>...</th>\n",
              "      <th>960</th>\n",
              "      <th>961</th>\n",
              "      <th>962</th>\n",
              "      <th>963</th>\n",
              "      <th>964</th>\n",
              "      <th>965</th>\n",
              "      <th>966</th>\n",
              "      <th>967</th>\n",
              "      <th>968</th>\n",
              "      <th>969</th>\n",
              "      <th>970</th>\n",
              "      <th>971</th>\n",
              "      <th>972</th>\n",
              "      <th>973</th>\n",
              "      <th>974</th>\n",
              "      <th>975</th>\n",
              "      <th>976</th>\n",
              "      <th>977</th>\n",
              "      <th>978</th>\n",
              "      <th>979</th>\n",
              "      <th>980</th>\n",
              "      <th>981</th>\n",
              "      <th>982</th>\n",
              "      <th>983</th>\n",
              "      <th>984</th>\n",
              "      <th>985</th>\n",
              "      <th>986</th>\n",
              "      <th>987</th>\n",
              "      <th>988</th>\n",
              "      <th>989</th>\n",
              "      <th>990</th>\n",
              "      <th>991</th>\n",
              "      <th>992</th>\n",
              "      <th>993</th>\n",
              "      <th>994</th>\n",
              "      <th>995</th>\n",
              "      <th>996</th>\n",
              "      <th>997</th>\n",
              "      <th>998</th>\n",
              "      <th>999</th>\n",
              "    </tr>\n",
              "  </thead>\n",
              "  <tbody>\n",
              "    <tr>\n",
              "      <th>0</th>\n",
              "      <td>9</td>\n",
              "      <td>8</td>\n",
              "      <td>2</td>\n",
              "      <td>5</td>\n",
              "      <td>6</td>\n",
              "      <td>9</td>\n",
              "      <td>0</td>\n",
              "      <td>2</td>\n",
              "      <td>3</td>\n",
              "      <td>7</td>\n",
              "      <td>4</td>\n",
              "      <td>5</td>\n",
              "      <td>7</td>\n",
              "      <td>2</td>\n",
              "      <td>5</td>\n",
              "      <td>0</td>\n",
              "      <td>9</td>\n",
              "      <td>1</td>\n",
              "      <td>0</td>\n",
              "      <td>0</td>\n",
              "      <td>0</td>\n",
              "      <td>4</td>\n",
              "      <td>3</td>\n",
              "      <td>3</td>\n",
              "      <td>8</td>\n",
              "      <td>7</td>\n",
              "      <td>0</td>\n",
              "      <td>1</td>\n",
              "      <td>7</td>\n",
              "      <td>0</td>\n",
              "      <td>8</td>\n",
              "      <td>7</td>\n",
              "      <td>6</td>\n",
              "      <td>7</td>\n",
              "      <td>4</td>\n",
              "      <td>7</td>\n",
              "      <td>9</td>\n",
              "      <td>3</td>\n",
              "      <td>9</td>\n",
              "      <td>2</td>\n",
              "      <td>...</td>\n",
              "      <td>0</td>\n",
              "      <td>8</td>\n",
              "      <td>4</td>\n",
              "      <td>4</td>\n",
              "      <td>8</td>\n",
              "      <td>7</td>\n",
              "      <td>7</td>\n",
              "      <td>1</td>\n",
              "      <td>9</td>\n",
              "      <td>7</td>\n",
              "      <td>0</td>\n",
              "      <td>8</td>\n",
              "      <td>5</td>\n",
              "      <td>6</td>\n",
              "      <td>8</td>\n",
              "      <td>9</td>\n",
              "      <td>1</td>\n",
              "      <td>0</td>\n",
              "      <td>5</td>\n",
              "      <td>4</td>\n",
              "      <td>7</td>\n",
              "      <td>3</td>\n",
              "      <td>3</td>\n",
              "      <td>6</td>\n",
              "      <td>4</td>\n",
              "      <td>0</td>\n",
              "      <td>5</td>\n",
              "      <td>8</td>\n",
              "      <td>7</td>\n",
              "      <td>2</td>\n",
              "      <td>7</td>\n",
              "      <td>0</td>\n",
              "      <td>3</td>\n",
              "      <td>7</td>\n",
              "      <td>7</td>\n",
              "      <td>8</td>\n",
              "      <td>1</td>\n",
              "      <td>6</td>\n",
              "      <td>5</td>\n",
              "      <td>6</td>\n",
              "    </tr>\n",
              "  </tbody>\n",
              "</table>\n",
              "<p>1 rows × 1000 columns</p>\n",
              "</div>"
            ],
            "text/plain": [
              "   0    1    2    3    4    5    6    ...  993  994  995  996  997  998  999\n",
              "0    9    8    2    5    6    9    0  ...    7    7    8    1    6    5    6\n",
              "\n",
              "[1 rows x 1000 columns]"
            ]
          },
          "metadata": {
            "tags": []
          },
          "execution_count": 16
        }
      ]
    },
    {
      "cell_type": "code",
      "metadata": {
        "colab": {
          "base_uri": "https://localhost:8080/"
        },
        "id": "btdwJrHsOwev",
        "outputId": "903c4edf-23d2-4baf-f397-16f468d3bc6c"
      },
      "source": [
        "ws = som(X_train, t='l', m=625, r=2, a=0.6)"
      ],
      "execution_count": null,
      "outputs": [
        {
          "output_type": "stream",
          "text": [
            "epoch  0\n",
            "a =  0.6  r =  2\n",
            "epoch  1\n",
            "a =  0.3  r =  1\n",
            "epoch  2\n",
            "a =  0.15  r =  0\n",
            "epoch  3\n",
            "a =  0.075  r =  0\n",
            "epoch  4\n",
            "a =  0.0375  r =  0\n",
            "epoch  5\n",
            "a =  0.01875  r =  0\n",
            "epoch  6\n",
            "a =  0.009375  r =  0\n",
            "epoch  7\n",
            "a =  0.0046875  r =  0\n",
            "epoch  8\n",
            "a =  0.00234375  r =  0\n",
            "epoch  9\n",
            "a =  0.001171875  r =  0\n"
          ],
          "name": "stdout"
        }
      ]
    },
    {
      "cell_type": "code",
      "metadata": {
        "id": "fv29uQmgO5Gx"
      },
      "source": [
        "preds = predict(X_test, y_test, ws)"
      ],
      "execution_count": null,
      "outputs": []
    },
    {
      "cell_type": "code",
      "metadata": {
        "colab": {
          "base_uri": "https://localhost:8080/",
          "height": 423
        },
        "id": "a9ZoT9XuO58z",
        "outputId": "4fc81de0-74e5-4087-99e1-d00975a2bcda"
      },
      "source": [
        "import pandas as pd\n",
        "\n",
        "clusters = []\n",
        "for i in preds:\n",
        "  if len(i) > 0:\n",
        "    clusters.append(i)\n",
        "\n",
        "pd.DataFrame(clusters)"
      ],
      "execution_count": null,
      "outputs": [
        {
          "output_type": "execute_result",
          "data": {
            "text/html": [
              "<div>\n",
              "<style scoped>\n",
              "    .dataframe tbody tr th:only-of-type {\n",
              "        vertical-align: middle;\n",
              "    }\n",
              "\n",
              "    .dataframe tbody tr th {\n",
              "        vertical-align: top;\n",
              "    }\n",
              "\n",
              "    .dataframe thead th {\n",
              "        text-align: right;\n",
              "    }\n",
              "</style>\n",
              "<table border=\"1\" class=\"dataframe\">\n",
              "  <thead>\n",
              "    <tr style=\"text-align: right;\">\n",
              "      <th></th>\n",
              "      <th>0</th>\n",
              "      <th>1</th>\n",
              "      <th>2</th>\n",
              "      <th>3</th>\n",
              "      <th>4</th>\n",
              "      <th>5</th>\n",
              "      <th>6</th>\n",
              "      <th>7</th>\n",
              "      <th>8</th>\n",
              "      <th>9</th>\n",
              "      <th>10</th>\n",
              "      <th>11</th>\n",
              "      <th>12</th>\n",
              "    </tr>\n",
              "  </thead>\n",
              "  <tbody>\n",
              "    <tr>\n",
              "      <th>0</th>\n",
              "      <td>6</td>\n",
              "      <td>6.0</td>\n",
              "      <td>6.0</td>\n",
              "      <td>6.0</td>\n",
              "      <td>6.0</td>\n",
              "      <td>6.0</td>\n",
              "      <td>NaN</td>\n",
              "      <td>NaN</td>\n",
              "      <td>NaN</td>\n",
              "      <td>NaN</td>\n",
              "      <td>NaN</td>\n",
              "      <td>NaN</td>\n",
              "      <td>NaN</td>\n",
              "    </tr>\n",
              "    <tr>\n",
              "      <th>1</th>\n",
              "      <td>6</td>\n",
              "      <td>6.0</td>\n",
              "      <td>6.0</td>\n",
              "      <td>6.0</td>\n",
              "      <td>NaN</td>\n",
              "      <td>NaN</td>\n",
              "      <td>NaN</td>\n",
              "      <td>NaN</td>\n",
              "      <td>NaN</td>\n",
              "      <td>NaN</td>\n",
              "      <td>NaN</td>\n",
              "      <td>NaN</td>\n",
              "      <td>NaN</td>\n",
              "    </tr>\n",
              "    <tr>\n",
              "      <th>2</th>\n",
              "      <td>4</td>\n",
              "      <td>NaN</td>\n",
              "      <td>NaN</td>\n",
              "      <td>NaN</td>\n",
              "      <td>NaN</td>\n",
              "      <td>NaN</td>\n",
              "      <td>NaN</td>\n",
              "      <td>NaN</td>\n",
              "      <td>NaN</td>\n",
              "      <td>NaN</td>\n",
              "      <td>NaN</td>\n",
              "      <td>NaN</td>\n",
              "      <td>NaN</td>\n",
              "    </tr>\n",
              "    <tr>\n",
              "      <th>3</th>\n",
              "      <td>0</td>\n",
              "      <td>0.0</td>\n",
              "      <td>0.0</td>\n",
              "      <td>0.0</td>\n",
              "      <td>0.0</td>\n",
              "      <td>0.0</td>\n",
              "      <td>NaN</td>\n",
              "      <td>NaN</td>\n",
              "      <td>NaN</td>\n",
              "      <td>NaN</td>\n",
              "      <td>NaN</td>\n",
              "      <td>NaN</td>\n",
              "      <td>NaN</td>\n",
              "    </tr>\n",
              "    <tr>\n",
              "      <th>4</th>\n",
              "      <td>0</td>\n",
              "      <td>0.0</td>\n",
              "      <td>0.0</td>\n",
              "      <td>NaN</td>\n",
              "      <td>NaN</td>\n",
              "      <td>NaN</td>\n",
              "      <td>NaN</td>\n",
              "      <td>NaN</td>\n",
              "      <td>NaN</td>\n",
              "      <td>NaN</td>\n",
              "      <td>NaN</td>\n",
              "      <td>NaN</td>\n",
              "      <td>NaN</td>\n",
              "    </tr>\n",
              "    <tr>\n",
              "      <th>...</th>\n",
              "      <td>...</td>\n",
              "      <td>...</td>\n",
              "      <td>...</td>\n",
              "      <td>...</td>\n",
              "      <td>...</td>\n",
              "      <td>...</td>\n",
              "      <td>...</td>\n",
              "      <td>...</td>\n",
              "      <td>...</td>\n",
              "      <td>...</td>\n",
              "      <td>...</td>\n",
              "      <td>...</td>\n",
              "      <td>...</td>\n",
              "    </tr>\n",
              "    <tr>\n",
              "      <th>414</th>\n",
              "      <td>8</td>\n",
              "      <td>8.0</td>\n",
              "      <td>8.0</td>\n",
              "      <td>8.0</td>\n",
              "      <td>8.0</td>\n",
              "      <td>8.0</td>\n",
              "      <td>8.0</td>\n",
              "      <td>NaN</td>\n",
              "      <td>NaN</td>\n",
              "      <td>NaN</td>\n",
              "      <td>NaN</td>\n",
              "      <td>NaN</td>\n",
              "      <td>NaN</td>\n",
              "    </tr>\n",
              "    <tr>\n",
              "      <th>415</th>\n",
              "      <td>8</td>\n",
              "      <td>8.0</td>\n",
              "      <td>NaN</td>\n",
              "      <td>NaN</td>\n",
              "      <td>NaN</td>\n",
              "      <td>NaN</td>\n",
              "      <td>NaN</td>\n",
              "      <td>NaN</td>\n",
              "      <td>NaN</td>\n",
              "      <td>NaN</td>\n",
              "      <td>NaN</td>\n",
              "      <td>NaN</td>\n",
              "      <td>NaN</td>\n",
              "    </tr>\n",
              "    <tr>\n",
              "      <th>416</th>\n",
              "      <td>2</td>\n",
              "      <td>8.0</td>\n",
              "      <td>8.0</td>\n",
              "      <td>NaN</td>\n",
              "      <td>NaN</td>\n",
              "      <td>NaN</td>\n",
              "      <td>NaN</td>\n",
              "      <td>NaN</td>\n",
              "      <td>NaN</td>\n",
              "      <td>NaN</td>\n",
              "      <td>NaN</td>\n",
              "      <td>NaN</td>\n",
              "      <td>NaN</td>\n",
              "    </tr>\n",
              "    <tr>\n",
              "      <th>417</th>\n",
              "      <td>8</td>\n",
              "      <td>8.0</td>\n",
              "      <td>8.0</td>\n",
              "      <td>NaN</td>\n",
              "      <td>NaN</td>\n",
              "      <td>NaN</td>\n",
              "      <td>NaN</td>\n",
              "      <td>NaN</td>\n",
              "      <td>NaN</td>\n",
              "      <td>NaN</td>\n",
              "      <td>NaN</td>\n",
              "      <td>NaN</td>\n",
              "      <td>NaN</td>\n",
              "    </tr>\n",
              "    <tr>\n",
              "      <th>418</th>\n",
              "      <td>8</td>\n",
              "      <td>NaN</td>\n",
              "      <td>NaN</td>\n",
              "      <td>NaN</td>\n",
              "      <td>NaN</td>\n",
              "      <td>NaN</td>\n",
              "      <td>NaN</td>\n",
              "      <td>NaN</td>\n",
              "      <td>NaN</td>\n",
              "      <td>NaN</td>\n",
              "      <td>NaN</td>\n",
              "      <td>NaN</td>\n",
              "      <td>NaN</td>\n",
              "    </tr>\n",
              "  </tbody>\n",
              "</table>\n",
              "<p>419 rows × 13 columns</p>\n",
              "</div>"
            ],
            "text/plain": [
              "     0    1    2    3    4    5    6   7   8   9   10  11  12\n",
              "0     6  6.0  6.0  6.0  6.0  6.0  NaN NaN NaN NaN NaN NaN NaN\n",
              "1     6  6.0  6.0  6.0  NaN  NaN  NaN NaN NaN NaN NaN NaN NaN\n",
              "2     4  NaN  NaN  NaN  NaN  NaN  NaN NaN NaN NaN NaN NaN NaN\n",
              "3     0  0.0  0.0  0.0  0.0  0.0  NaN NaN NaN NaN NaN NaN NaN\n",
              "4     0  0.0  0.0  NaN  NaN  NaN  NaN NaN NaN NaN NaN NaN NaN\n",
              "..   ..  ...  ...  ...  ...  ...  ...  ..  ..  ..  ..  ..  ..\n",
              "414   8  8.0  8.0  8.0  8.0  8.0  8.0 NaN NaN NaN NaN NaN NaN\n",
              "415   8  8.0  NaN  NaN  NaN  NaN  NaN NaN NaN NaN NaN NaN NaN\n",
              "416   2  8.0  8.0  NaN  NaN  NaN  NaN NaN NaN NaN NaN NaN NaN\n",
              "417   8  8.0  8.0  NaN  NaN  NaN  NaN NaN NaN NaN NaN NaN NaN\n",
              "418   8  NaN  NaN  NaN  NaN  NaN  NaN NaN NaN NaN NaN NaN NaN\n",
              "\n",
              "[419 rows x 13 columns]"
            ]
          },
          "metadata": {
            "tags": []
          },
          "execution_count": 19
        }
      ]
    },
    {
      "cell_type": "code",
      "metadata": {
        "colab": {
          "base_uri": "https://localhost:8080/"
        },
        "id": "Xki4zQosVOV-",
        "outputId": "32498e1e-7047-48ee-9e6c-65ccc8f67795"
      },
      "source": [
        "ws = som(X_train, t='s', m=625, r=1, a=0.6)"
      ],
      "execution_count": null,
      "outputs": [
        {
          "output_type": "stream",
          "text": [
            "epoch  0\n",
            "a =  0.6  r =  1\n",
            "epoch  1\n",
            "a =  0.3  r =  0\n",
            "epoch  2\n",
            "a =  0.15  r =  0\n",
            "epoch  3\n",
            "a =  0.075  r =  0\n",
            "epoch  4\n",
            "a =  0.0375  r =  0\n",
            "epoch  5\n",
            "a =  0.01875  r =  0\n",
            "epoch  6\n",
            "a =  0.009375  r =  0\n",
            "epoch  7\n",
            "a =  0.0046875  r =  0\n",
            "epoch  8\n",
            "a =  0.00234375  r =  0\n",
            "epoch  9\n",
            "a =  0.001171875  r =  0\n"
          ],
          "name": "stdout"
        }
      ]
    },
    {
      "cell_type": "code",
      "metadata": {
        "id": "qbOor5OekC6c"
      },
      "source": [
        "preds_s = predict(X_test, y_test, ws)"
      ],
      "execution_count": null,
      "outputs": []
    },
    {
      "cell_type": "code",
      "metadata": {
        "id": "vGq_oqijkX4s"
      },
      "source": [
        "clusters = []\n",
        "for i, v in enumerate(preds_s):\n",
        "  if len(v) > 0:\n",
        "    clusters.append(i)"
      ],
      "execution_count": null,
      "outputs": []
    },
    {
      "cell_type": "code",
      "metadata": {
        "colab": {
          "base_uri": "https://localhost:8080/",
          "height": 283
        },
        "id": "QaDFwU-tl6nM",
        "outputId": "16e1bde6-b8cc-4bf3-b0e1-3d3355c9f44d"
      },
      "source": [
        "plt.imshow(ws[:,clusters[20]].reshape(28,28)), preds_s[clusters[20]]"
      ],
      "execution_count": null,
      "outputs": [
        {
          "output_type": "execute_result",
          "data": {
            "text/plain": [
              "(<matplotlib.image.AxesImage at 0x7ff03b00d7d0>, [2, 2, 2, 2])"
            ]
          },
          "metadata": {
            "tags": []
          },
          "execution_count": 36
        },
        {
          "output_type": "display_data",
          "data": {
            "image/png": "[encoded data removed]",
            "text/plain": [
              "<Figure size 432x288 with 1 Axes>"
            ]
          },
          "metadata": {
            "tags": [],
            "needs_background": "light"
          }
        }
      ]
    },
    {
      "cell_type": "code",
      "metadata": {
        "colab": {
          "base_uri": "https://localhost:8080/",
          "height": 283
        },
        "id": "fc4RVoT6l7U_",
        "outputId": "79dd1542-0be9-4eb6-ff65-5007c9210bd0"
      },
      "source": [
        "plt.imshow(ws[:,clusters[10]].reshape(28,28)), preds_s[clusters[10]]"
      ],
      "execution_count": null,
      "outputs": [
        {
          "output_type": "execute_result",
          "data": {
            "text/plain": [
              "(<matplotlib.image.AxesImage at 0x7ff03b0c23d0>, [4, 4, 4, 4, 4, 4])"
            ]
          },
          "metadata": {
            "tags": []
          },
          "execution_count": 35
        },
        {
          "output_type": "display_data",
          "data": {
            "image/png": "[encoded data removed]",
            "text/plain": [
              "<Figure size 432x288 with 1 Axes>"
            ]
          },
          "metadata": {
            "tags": [],
            "needs_background": "light"
          }
        }
      ]
    },
    {
      "cell_type": "code",
      "metadata": {
        "colab": {
          "base_uri": "https://localhost:8080/",
          "height": 283
        },
        "id": "DXeXT6nwl8IU",
        "outputId": "7a761f00-4de4-4e0a-e3cc-0584c5a1d649"
      },
      "source": [
        "plt.imshow(ws[:,clusters[6]].reshape(28,28)), preds_s[clusters[6]]"
      ],
      "execution_count": null,
      "outputs": [
        {
          "output_type": "execute_result",
          "data": {
            "text/plain": [
              "(<matplotlib.image.AxesImage at 0x7ff03b10c390>, [9, 4, 4, 9, 4, 9])"
            ]
          },
          "metadata": {
            "tags": []
          },
          "execution_count": 33
        },
        {
          "output_type": "display_data",
          "data": {
            "image/png": "[encoded data removed]",
            "text/plain": [
              "<Figure size 432x288 with 1 Axes>"
            ]
          },
          "metadata": {
            "tags": [],
            "needs_background": "light"
          }
        }
      ]
    }
  ]
}