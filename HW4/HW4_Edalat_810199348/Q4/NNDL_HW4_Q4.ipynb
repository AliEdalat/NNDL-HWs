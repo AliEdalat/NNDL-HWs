{
  "nbformat": 4,
  "nbformat_minor": 0,
  "metadata": {
    "colab": {
      "name": "NNDL_HW4_Q4.ipynb",
      "provenance": [],
      "collapsed_sections": []
    },
    "kernelspec": {
      "name": "python3",
      "display_name": "Python 3"
    },
    "language_info": {
      "name": "python"
    }
  },
  "cells": [
    {
      "cell_type": "code",
      "metadata": {
        "id": "f2NSKXCX7qpa"
      },
      "source": [
        "import numpy as np\n",
        "import matplotlib.pyplot as plt"
      ],
      "execution_count": null,
      "outputs": []
    },
    {
      "cell_type": "code",
      "metadata": {
        "id": "9vlLb1dHCqro"
      },
      "source": [
        "def multimax(x):\n",
        "  t = x[np.nonzero(x)]\n",
        "  return np.all(t==t[0])"
      ],
      "execution_count": null,
      "outputs": []
    },
    {
      "cell_type": "code",
      "metadata": {
        "id": "1z25Ik2OI9M-"
      },
      "source": [
        "def act(x):\n",
        "  if x >= 0:\n",
        "    return x\n",
        "  else:\n",
        "    return 0"
      ],
      "execution_count": null,
      "outputs": []
    },
    {
      "cell_type": "code",
      "metadata": {
        "id": "eZuPclxXJEW3"
      },
      "source": [
        "def sum_j(x,i):\n",
        "  return sum(x)-x[i]"
      ],
      "execution_count": null,
      "outputs": []
    },
    {
      "cell_type": "code",
      "metadata": {
        "id": "1m0PllYi9Zsk"
      },
      "source": [
        "def maxnet(x, e):\n",
        "  print(x)\n",
        "  xt = x.copy()\n",
        "  while not multimax(xt) and len(np.nonzero(xt)[0]) > 1:\n",
        "    for i in range(len(x)):\n",
        "      xt[i] = act(xt[i]-(e*sum_j(x,i)))\n",
        "    print(xt)\n",
        "  return np.nonzero(xt)[0][0], x[np.nonzero(xt)[0][0]]"
      ],
      "execution_count": null,
      "outputs": []
    },
    {
      "cell_type": "code",
      "metadata": {
        "id": "jYxnmLx-__Rh"
      },
      "source": [
        "e1 = [1, -1, 1, -1, 1, -1]\n",
        "e2 = [-1, 1, -1, 1, -1, -1]\n",
        "e3 = [1, 1, 1, -1, -1, -1]"
      ],
      "execution_count": null,
      "outputs": []
    },
    {
      "cell_type": "code",
      "metadata": {
        "id": "SSX0wVSrANtC"
      },
      "source": [
        "V1= [1, 1, 1, 1, 1, 1]\n",
        "V2 = [-1, 1, -1, -1, 1, 1]\n",
        "V3 = [-1, -1, 1, 1, 1, 1]\n",
        "V4 = [-1, -1, 1, 1, -1, 1]\n",
        "V5 = [-1, 1, 1, -1, -1, -1]"
      ],
      "execution_count": null,
      "outputs": []
    },
    {
      "cell_type": "code",
      "metadata": {
        "id": "AYF0Vv9DAj3_"
      },
      "source": [
        "ep = 0.13"
      ],
      "execution_count": null,
      "outputs": []
    },
    {
      "cell_type": "code",
      "metadata": {
        "id": "tv75pFgiAzX1"
      },
      "source": [
        "es = [e1, e2, e3]"
      ],
      "execution_count": null,
      "outputs": []
    },
    {
      "cell_type": "code",
      "metadata": {
        "id": "1Lfj1iq5ArWW"
      },
      "source": [
        "def hamming_net(es, v, ep):\n",
        "  xt = np.matmul(v, np.array(es).T)+(len(v)/2)\n",
        "  i, vl = maxnet(xt, ep)\n",
        "  print('base vec of ', v, ' is ', 'e', i, ' = ', es[i])"
      ],
      "execution_count": null,
      "outputs": []
    },
    {
      "cell_type": "code",
      "metadata": {
        "colab": {
          "base_uri": "https://localhost:8080/"
        },
        "id": "u8T_RhC_BX9_",
        "outputId": "8af53cd9-76da-42cd-e516-3dadea471778"
      },
      "source": [
        "hamming_net(es, V1, ep)"
      ],
      "execution_count": null,
      "outputs": [
        {
          "output_type": "stream",
          "text": [
            "[3. 1. 3.]\n",
            "[2.48 0.22 2.48]\n",
            "[1.96 0.   1.96]\n",
            "base vec of  [1, 1, 1, 1, 1, 1]  is  e 0  =  [1, -1, 1, -1, 1, -1]\n"
          ],
          "name": "stdout"
        }
      ]
    },
    {
      "cell_type": "code",
      "metadata": {
        "colab": {
          "base_uri": "https://localhost:8080/"
        },
        "id": "_ylocu6AMbq8",
        "outputId": "f230f126-3359-4258-b4d6-41439f4c619c"
      },
      "source": [
        "hamming_net(es, V2, ep)"
      ],
      "execution_count": null,
      "outputs": [
        {
          "output_type": "stream",
          "text": [
            "[1. 3. 1.]\n",
            "[0.48 2.74 0.48]\n",
            "[0.   2.48 0.  ]\n",
            "base vec of  [-1, 1, -1, -1, 1, 1]  is  e 1  =  [-1, 1, -1, 1, -1, -1]\n"
          ],
          "name": "stdout"
        }
      ]
    },
    {
      "cell_type": "code",
      "metadata": {
        "colab": {
          "base_uri": "https://localhost:8080/"
        },
        "id": "Nl3g2HqOMdce",
        "outputId": "5f34463c-b20d-4acf-fefc-cdb338e03198"
      },
      "source": [
        "hamming_net(es, V3, ep)"
      ],
      "execution_count": null,
      "outputs": [
        {
          "output_type": "stream",
          "text": [
            "[ 3.  1. -1.]\n",
            "[3.   0.74 0.  ]\n",
            "[3.   0.48 0.  ]\n",
            "[3.   0.22 0.  ]\n",
            "[3. 0. 0.]\n",
            "base vec of  [-1, -1, 1, 1, 1, 1]  is  e 0  =  [1, -1, 1, -1, 1, -1]\n"
          ],
          "name": "stdout"
        }
      ]
    },
    {
      "cell_type": "code",
      "metadata": {
        "colab": {
          "base_uri": "https://localhost:8080/"
        },
        "id": "I1MXifjqMhmD",
        "outputId": "f8cc5b3d-f847-41e4-f9ee-53bb558a4c2b"
      },
      "source": [
        "hamming_net(es, V4, ep)"
      ],
      "execution_count": null,
      "outputs": [
        {
          "output_type": "stream",
          "text": [
            "[1. 3. 1.]\n",
            "[0.48 2.74 0.48]\n",
            "[0.   2.48 0.  ]\n",
            "base vec of  [-1, -1, 1, 1, -1, 1]  is  e 1  =  [-1, 1, -1, 1, -1, -1]\n"
          ],
          "name": "stdout"
        }
      ]
    },
    {
      "cell_type": "code",
      "metadata": {
        "colab": {
          "base_uri": "https://localhost:8080/"
        },
        "id": "gNEEX1XpMkN0",
        "outputId": "2b1b5f3e-f757-4228-a44d-249e87f8d3bf"
      },
      "source": [
        "hamming_net(es, V5, ep)"
      ],
      "execution_count": null,
      "outputs": [
        {
          "output_type": "stream",
          "text": [
            "[3. 5. 7.]\n",
            "[1.44 3.7  5.96]\n",
            "[0.   2.4  4.92]\n",
            "[0.   1.1  3.88]\n",
            "[0.   0.   2.84]\n",
            "base vec of  [-1, 1, 1, -1, -1, -1]  is  e 2  =  [1, 1, 1, -1, -1, -1]\n"
          ],
          "name": "stdout"
        }
      ]
    }
  ]
}