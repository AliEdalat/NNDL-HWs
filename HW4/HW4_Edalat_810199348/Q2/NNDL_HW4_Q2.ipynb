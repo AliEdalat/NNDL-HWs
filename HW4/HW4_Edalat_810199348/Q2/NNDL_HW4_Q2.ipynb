{
  "nbformat": 4,
  "nbformat_minor": 0,
  "metadata": {
    "colab": {
      "name": "NNDL_HW4_Q2.ipynb",
      "provenance": [],
      "collapsed_sections": []
    },
    "kernelspec": {
      "name": "python3",
      "display_name": "Python 3"
    },
    "language_info": {
      "name": "python"
    }
  },
  "cells": [
    {
      "cell_type": "code",
      "metadata": {
        "id": "mFE8JDpZ9ee4"
      },
      "source": [
        "import numpy as np\n",
        "import matplotlib.pyplot as plt"
      ],
      "execution_count": null,
      "outputs": []
    },
    {
      "cell_type": "code",
      "metadata": {
        "id": "bVtB2mzT9yf4"
      },
      "source": [
        "x = [1.2,1.1,0.5,1.5,1.13,0.8]\n",
        "e = 0.13"
      ],
      "execution_count": null,
      "outputs": []
    },
    {
      "cell_type": "code",
      "metadata": {
        "id": "0u9DguMP-JVs"
      },
      "source": [
        "def act(x):\n",
        "  if x >= 0:\n",
        "    return x\n",
        "  else:\n",
        "    return 0"
      ],
      "execution_count": null,
      "outputs": []
    },
    {
      "cell_type": "code",
      "metadata": {
        "id": "DhQp7S5tFugO"
      },
      "source": [
        "def sum_j(x,i):\n",
        "  return sum(x)-x[i]"
      ],
      "execution_count": null,
      "outputs": []
    },
    {
      "cell_type": "code",
      "metadata": {
        "id": "DaF7mtR3EW6g"
      },
      "source": [
        "def maxnet(x, e):\n",
        "  print(x)\n",
        "  xt = x.copy()\n",
        "  while len(np.nonzero(xt)[0]) > 1:\n",
        "    for i in range(len(x)):\n",
        "      xt[i] = act(xt[i]-(e*sum_j(x,i)))\n",
        "    print(xt)\n",
        "  return np.nonzero(xt)[0][0], x[np.nonzero(xt)[0][0]]"
      ],
      "execution_count": null,
      "outputs": []
    },
    {
      "cell_type": "code",
      "metadata": {
        "colab": {
          "base_uri": "https://localhost:8080/"
        },
        "id": "demBhg8qGfac",
        "outputId": "d677957f-179d-48d1-c4bc-92bc121f5f82"
      },
      "source": [
        "i, v = maxnet(x, e)\n",
        "print('max value: ', v, ' index of max : ', i, ' input : ', x)"
      ],
      "execution_count": null,
      "outputs": [
        {
          "output_type": "stream",
          "text": [
            "[1.2, 1.1, 0.5, 1.5, 1.13, 0.8]\n",
            "[0.5461, 0.43310000000000015, 0, 0.8851, 0.46699999999999997, 0.09410000000000007]\n",
            "[0, 0, 0, 0.2702, 0, 0]\n",
            "max value:  1.5  index of max :  3  input :  [1.2, 1.1, 0.5, 1.5, 1.13, 0.8]\n"
          ],
          "name": "stdout"
        }
      ]
    },
    {
      "cell_type": "markdown",
      "metadata": {
        "id": "m8M3pwLiIZwP"
      },
      "source": [
        "Max Absolute value"
      ]
    },
    {
      "cell_type": "code",
      "metadata": {
        "id": "JrYR1SpTIbnf"
      },
      "source": [
        "x = [1.2,1.1,0.5,-1.5,1.13,-0.8]"
      ],
      "execution_count": null,
      "outputs": []
    },
    {
      "cell_type": "code",
      "metadata": {
        "id": "Pdp3ZEHZP3CF"
      },
      "source": [
        "def max_abs_net(x, e):\n",
        "  y = []\n",
        "  \n",
        "  print('find max positive number')\n",
        "  print('use max net on input array')\n",
        "  print(x)\n",
        "  xt = x.copy()\n",
        "  while len(np.nonzero(xt)[0]) > 1:\n",
        "    for i in range(len(xt)):\n",
        "      xt[i] = act(xt[i]-(e*sum_j(xt,i)))\n",
        "    print(xt)\n",
        "  y.append(x[np.nonzero(xt)[0][0]])\n",
        "\n",
        "  print('find min negative number')\n",
        "  print('use max net on  -1 * input array')\n",
        "  xt = x.copy()\n",
        "  xt = list(np.array(xt)*-1)\n",
        "  in_xt = xt.copy()\n",
        "  print(xt)\n",
        "  while len(np.nonzero(xt)[0]) > 1:\n",
        "    for i in range(len(xt)):\n",
        "      xt[i] = act(xt[i]-(e*sum_j(xt,i)))\n",
        "    print(xt)\n",
        "  y.append(in_xt[np.nonzero(xt)[0][0]])\n",
        "  print(y)\n",
        "  print('find max betwwen abs of min negative and max positive as max absolute')\n",
        "  xt = y.copy()\n",
        "  while len(np.nonzero(xt)[0]) > 1:\n",
        "    for i in range(len(xt)):\n",
        "      xt[i] = act(xt[i]-(e*sum_j(xt,i)))\n",
        "    print(xt)\n",
        "  return y[np.nonzero(xt)[0][0]]"
      ],
      "execution_count": null,
      "outputs": []
    },
    {
      "cell_type": "code",
      "metadata": {
        "colab": {
          "base_uri": "https://localhost:8080/"
        },
        "id": "WhIxRLnoUETz",
        "outputId": "f1d60a79-0967-4b4d-cd2d-183e308efe6a"
      },
      "source": [
        "max_abs_net(x, e)"
      ],
      "execution_count": null,
      "outputs": [
        {
          "output_type": "stream",
          "text": [
            "find max positive number\n",
            "use max net on input array\n",
            "[1.2, 1.1, 0.5, -1.5, 1.13, -0.8]\n",
            "[1.1441, 1.038367, 0.36837929, 0, 0.9023899822999999, 0]\n",
            "[0.8439122846009999, 0.76345839760287, 0.04211040361449697, 0, 0.6879574411436122, 0]\n",
            "[0.6497538730940726, 0.5840815742820864, 0, 0, 0.5275588329847116, 0]\n",
            "[0.5052406201493889, 0.4498176453746533, 0, 0, 0.40340125846658614, 0]\n",
            "[0.39432216265002773, 0.3461136006294935, 0, 0, 0.3071446092402484, 0]\n",
            "[0.3093985953669613, 0.26596298403055624, 0, 0, 0.23234760391857112, 0]\n",
            "[0.24461821893357472, 0.20395742705977726, 0, 0, 0.17403276993943537, 0]\n",
            "[0.19547949332367706, 0.15592083283557265, 0, 0, 0.12835072753873292, 0]\n",
            "[0.15852419047501734, 0.11862709349378511, 0, 0, 0.09232106062278858, 0]\n",
            "[0.13110093043986276, 0.08958223465564044, 0, 0, 0.06363224916037316, 0]\n",
            "[0.111183047543781, 0.0668562460841004, 0, 0, 0.040487140988748574, 0]\n",
            "[0.09722840722431063, 0.048953224816402706, 0, 0, 0.02148352882345584, 0]\n",
            "[0.08807162925112902, 0.034711054266706676, 0, 0, 0.005521779966137199, 0]\n",
            "[0.08284136080085931, 0.023223845966997128, 0, 0, 0, 0]\n",
            "[0.07982226082514969, 0.012846952059727667, 0, 0, 0, 0]\n",
            "[0.0781521570573851, 0.002687171642267604, 0, 0, 0, 0]\n",
            "[0.0778028247438903, 0, 0, 0, 0, 0]\n",
            "find min negative number\n",
            "use max net on  -1 * input array\n",
            "[-1.2, -1.1, -0.5, 1.5, -1.13, 0.8]\n",
            "[0, 0, 0, 1.5429, 0, 0.599423]\n",
            "[0, 0, 0, 1.4649750099999999, 0, 0.40897624870000004]\n",
            "[0, 0, 0, 1.4118080976689997, 0, 0.2254411960030301]\n",
            "[0, 0, 0, 1.3825007421886057, 0, 0.04571609951851133]\n",
            "[0, 0, 0, 1.3765576492511993, 0, 0]\n",
            "[1.2, 1.5]\n",
            "find max betwwen abs of min negative and max positive as max absolute\n",
            "[1.005, 1.36935]\n",
            "[0.8269844999999999, 1.261842015]\n",
            "[0.6629450380499999, 1.1756591600535]\n",
            "[0.5101093472430449, 1.1093449449119042]\n",
            "[0.36589450440449733, 1.0617786593393195]\n",
            "[0.2278632786903858, 1.0321564331095694]\n",
            "[0.09368294238614178, 1.019977650599371]\n",
            "[0, 1.019977650599371]\n"
          ],
          "name": "stdout"
        },
        {
          "output_type": "execute_result",
          "data": {
            "text/plain": [
              "1.5"
            ]
          },
          "metadata": {
            "tags": []
          },
          "execution_count": 9
        }
      ]
    }
  ]
}