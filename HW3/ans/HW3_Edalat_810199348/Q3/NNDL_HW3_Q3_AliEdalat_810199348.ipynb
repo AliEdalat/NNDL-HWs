{
  "nbformat": 4,
  "nbformat_minor": 0,
  "metadata": {
    "colab": {
      "name": "NNDL_HW3_Q3.ipynb",
      "provenance": [],
      "collapsed_sections": []
    },
    "kernelspec": {
      "name": "python3",
      "display_name": "Python 3"
    },
    "language_info": {
      "name": "python"
    }
  },
  "cells": [
    {
      "cell_type": "code",
      "metadata": {
        "id": "hdYGwTmIugP_"
      },
      "source": [
        "import numpy as np\n",
        "import matplotlib.pyplot as plt"
      ],
      "execution_count": 1,
      "outputs": []
    },
    {
      "cell_type": "code",
      "metadata": {
        "id": "vcAyPTzzX7Gj"
      },
      "source": [
        "def gen_w(ins, outs):\n",
        "  res = np.zeros((64, 64))\n",
        "  for i, v in enumerate(ins):\n",
        "    res += np.matmul(v.flatten()[np.newaxis].T ,outs[i].flatten().reshape(1, -1))\n",
        "  return res"
      ],
      "execution_count": 2,
      "outputs": []
    },
    {
      "cell_type": "code",
      "metadata": {
        "id": "LwtFP3lMYZoE"
      },
      "source": [
        "def sign(inp):\n",
        "  res = []\n",
        "\n",
        "  for i in inp[0]:\n",
        "    if i >= 0:\n",
        "      res.append(1)\n",
        "    else:\n",
        "      res.append(-1)\n",
        "\n",
        "  return np.array(res)"
      ],
      "execution_count": 3,
      "outputs": []
    },
    {
      "cell_type": "code",
      "metadata": {
        "id": "USvVRaJQYeCO"
      },
      "source": [
        "def add_noise(inp, p):\n",
        "  ids = np.random.choice(len(inp[0]), int(len(inp[0])*p)+1)\n",
        "  inp_c = inp.copy()\n",
        "  for i in ids:\n",
        "    inp_c[0][i] += float((-2*inp_c[0][i])/np.abs(inp_c[0][i]))\n",
        "  return inp_c"
      ],
      "execution_count": 4,
      "outputs": []
    },
    {
      "cell_type": "code",
      "metadata": {
        "id": "vH1GGge_9h_m"
      },
      "source": [
        "# add_noise(ins[0].reshape(1, -1), 0.3)"
      ],
      "execution_count": 5,
      "outputs": []
    },
    {
      "cell_type": "markdown",
      "metadata": {
        "id": "GQYaXeTKa6Yk"
      },
      "source": [
        "### inputs data"
      ]
    },
    {
      "cell_type": "code",
      "metadata": {
        "colab": {
          "base_uri": "https://localhost:8080/",
          "height": 283
        },
        "id": "iAxRg274YpuB",
        "outputId": "62f91dfa-f38f-4e21-9c15-1ef93b63aadc"
      },
      "source": [
        "ins0 = [[1, 1, 1, 1, 1, 1, 1, 1], [1, 1, 1, 1, 1, 1, 1, 1], [1, 1, -1, -1, -1, -1, 1, 1],\n",
        "        [1, 1, -1, -1, -1, -1, 1, 1], [1, 1, -1, -1, -1, -1, 1, 1],[1, 1, -1, -1, -1, -1, 1, 1],\n",
        "        [1, 1, 1, 1, 1, 1, 1, 1], [1, 1, 1, 1, 1, 1, 1, 1]]\n",
        "\n",
        "plt.imshow(np.array(ins0))"
      ],
      "execution_count": 6,
      "outputs": [
        {
          "output_type": "execute_result",
          "data": {
            "text/plain": [
              "<matplotlib.image.AxesImage at 0x7f97d97764d0>"
            ]
          },
          "metadata": {
            "tags": []
          },
          "execution_count": 6
        },
        {
          "output_type": "display_data",
          "data": {
            "image/png": "[encoded data removed]",
            "text/plain": [
              "<Figure size 432x288 with 1 Axes>"
            ]
          },
          "metadata": {
            "tags": [],
            "needs_background": "light"
          }
        }
      ]
    },
    {
      "cell_type": "code",
      "metadata": {
        "colab": {
          "base_uri": "https://localhost:8080/",
          "height": 283
        },
        "id": "OMQ9R1S6ZgBa",
        "outputId": "b10f1687-e8cc-4ebb-d45d-fdeb5a695599"
      },
      "source": [
        "ins1 = [[-1, -1, 1, 1, 1, -1, -1, -1], [-1, -1, 1, 1, 1, -1, -1, -1], [-1, -1, -1, 1, 1, -1, -1, -1],\n",
        "        [-1, -1, -1, 1, 1, -1, -1, -1], [-1, -1, -1, 1, 1, -1, -1, -1],[-1, -1, -1, 1, 1, -1, -1, -1],\n",
        "        [-1, -1, -1, 1, 1, -1, -1, -1], [-1, -1, -1, 1, 1, -1, -1, -1]]\n",
        "\n",
        "plt.imshow(np.array(ins1))"
      ],
      "execution_count": 7,
      "outputs": [
        {
          "output_type": "execute_result",
          "data": {
            "text/plain": [
              "<matplotlib.image.AxesImage at 0x7f97d30bea10>"
            ]
          },
          "metadata": {
            "tags": []
          },
          "execution_count": 7
        },
        {
          "output_type": "display_data",
          "data": {
            "image/png": "[encoded data removed]",
            "text/plain": [
              "<Figure size 432x288 with 1 Axes>"
            ]
          },
          "metadata": {
            "tags": [],
            "needs_background": "light"
          }
        }
      ]
    },
    {
      "cell_type": "code",
      "metadata": {
        "id": "mXSBgZdyaJWz"
      },
      "source": [
        "ins = [ins0, ins1]\n",
        "\n",
        "ins = np.array(ins)"
      ],
      "execution_count": 8,
      "outputs": []
    },
    {
      "cell_type": "markdown",
      "metadata": {
        "id": "7bOpQwY8a1Lv"
      },
      "source": [
        "### create w matrix"
      ]
    },
    {
      "cell_type": "code",
      "metadata": {
        "id": "8RCigkQ0aSPT"
      },
      "source": [
        "w = gen_w(ins, ins)\n",
        "\n",
        "np.fill_diagonal(w, 0)"
      ],
      "execution_count": 9,
      "outputs": []
    },
    {
      "cell_type": "markdown",
      "metadata": {
        "id": "qF-Jhfwgatrw"
      },
      "source": [
        "### net can generate inputs from data with noise"
      ]
    },
    {
      "cell_type": "code",
      "metadata": {
        "colab": {
          "base_uri": "https://localhost:8080/",
          "height": 1000
        },
        "id": "D04bDZtYazTd",
        "outputId": "aaafcd38-0456-4d39-8f26-bfedecc6b674"
      },
      "source": [
        "for i in range(len(ins)):\n",
        "  pred = sign(np.matmul(ins[i].reshape(1,-1), w)).reshape(8, 8)\n",
        "  plt.imshow(pred)\n",
        "  plt.title('prediction for input '+str(i))\n",
        "  plt.show()\n",
        "\n",
        "  plt.imshow(ins[i])\n",
        "  plt.title('output for input '+str(i))\n",
        "  plt.show()\n",
        "\n",
        "  print(pred == ins[i])\n",
        "  print(np.all(pred == ins[i]))"
      ],
      "execution_count": 10,
      "outputs": [
        {
          "output_type": "display_data",
          "data": {
            "image/png": "[encoded data removed]",
            "text/plain": [
              "<Figure size 432x288 with 1 Axes>"
            ]
          },
          "metadata": {
            "tags": [],
            "needs_background": "light"
          }
        },
        {
          "output_type": "display_data",
          "data": {
            "image/png": "[encoded data removed]",
            "text/plain": [
              "<Figure size 432x288 with 1 Axes>"
            ]
          },
          "metadata": {
            "tags": [],
            "needs_background": "light"
          }
        },
        {
          "output_type": "stream",
          "text": [
            "[[ True  True  True  True  True  True  True  True]\n",
            " [ True  True  True  True  True  True  True  True]\n",
            " [ True  True  True  True  True  True  True  True]\n",
            " [ True  True  True  True  True  True  True  True]\n",
            " [ True  True  True  True  True  True  True  True]\n",
            " [ True  True  True  True  True  True  True  True]\n",
            " [ True  True  True  True  True  True  True  True]\n",
            " [ True  True  True  True  True  True  True  True]]\n",
            "True\n"
          ],
          "name": "stdout"
        },
        {
          "output_type": "display_data",
          "data": {
            "image/png": "[encoded data removed]",
            "text/plain": [
              "<Figure size 432x288 with 1 Axes>"
            ]
          },
          "metadata": {
            "tags": [],
            "needs_background": "light"
          }
        },
        {
          "output_type": "display_data",
          "data": {
            "image/png": "[encoded data removed]",
            "text/plain": [
              "<Figure size 432x288 with 1 Axes>"
            ]
          },
          "metadata": {
            "tags": [],
            "needs_background": "light"
          }
        },
        {
          "output_type": "stream",
          "text": [
            "[[ True  True  True  True  True  True  True  True]\n",
            " [ True  True  True  True  True  True  True  True]\n",
            " [ True  True  True  True  True  True  True  True]\n",
            " [ True  True  True  True  True  True  True  True]\n",
            " [ True  True  True  True  True  True  True  True]\n",
            " [ True  True  True  True  True  True  True  True]\n",
            " [ True  True  True  True  True  True  True  True]\n",
            " [ True  True  True  True  True  True  True  True]]\n",
            "True\n"
          ],
          "name": "stdout"
        }
      ]
    },
    {
      "cell_type": "markdown",
      "metadata": {
        "id": "KAfkJfzBb6GG"
      },
      "source": [
        "### Hopfield Net"
      ]
    },
    {
      "cell_type": "code",
      "metadata": {
        "id": "7hCy9Gw1d74W"
      },
      "source": [
        "def convergence(y, ins):\n",
        "  # print(y)\n",
        "  for i in range(len(ins)):\n",
        "    # print(ins[i])\n",
        "    # print(np.all(y==ins[i]))\n",
        "    if np.all(y==ins[i]):\n",
        "      return True\n",
        "  return False  "
      ],
      "execution_count": 11,
      "outputs": []
    },
    {
      "cell_type": "code",
      "metadata": {
        "id": "zdF4UtM5gvP6"
      },
      "source": [
        "def act(c, i):\n",
        "  if c > 0:\n",
        "    return 1\n",
        "  elif c == 0:\n",
        "    return i\n",
        "  else:\n",
        "    return -1"
      ],
      "execution_count": 12,
      "outputs": []
    },
    {
      "cell_type": "code",
      "metadata": {
        "id": "_uRlr2LmjIQG"
      },
      "source": [
        "def sumw(y, w, i):\n",
        "  res = 0\n",
        "  for j in range(len(w)):\n",
        "    res += y[0][j]*w[j][i]\n",
        "  return res"
      ],
      "execution_count": 13,
      "outputs": []
    },
    {
      "cell_type": "code",
      "metadata": {
        "id": "fLviFnP6b5gc"
      },
      "source": [
        "def hop_net(x, w, ins):\n",
        "  rng = np.random.default_rng()\n",
        "  y = x.copy()\n",
        "  r = 0\n",
        "  while r < 400:\n",
        "    pr = rng.permutation(len(x[0]))\n",
        "    for i in pr:\n",
        "      y_in = x[0][i] + sumw(y, w, i)\n",
        "      y[0][i] = act(y_in, y[0][i])\n",
        "      \n",
        "    # plt.imshow(y.reshape(8, 8))\n",
        "    # print(y.reshape(8, 8))\n",
        "    if convergence(y.reshape(8, 8), ins):\n",
        "      return y\n",
        "    r += 1\n",
        "\n",
        "  print('conv false')\n",
        "  print(x)\n",
        "  for i, v in enumerate(ins):\n",
        "    print('input : ', i, ' x ham-d : ', np.sum(x.reshape(8, 8) != v))\n",
        "  plt.imshow(x.reshape(8,8))\n",
        "  plt.show()\n",
        "  return y\n"
      ],
      "execution_count": 14,
      "outputs": []
    },
    {
      "cell_type": "markdown",
      "metadata": {
        "id": "iIllZFzE15VA"
      },
      "source": [
        "### pred for inputs"
      ]
    },
    {
      "cell_type": "code",
      "metadata": {
        "colab": {
          "base_uri": "https://localhost:8080/",
          "height": 283
        },
        "id": "pJuLF5np19FC",
        "outputId": "3ef54f7b-1952-40cf-9bd4-07c0e186de37"
      },
      "source": [
        "pred = hop_net(ins[0].reshape(1,-1), w, ins)\n",
        "plt.imshow(pred.reshape(8, 8))"
      ],
      "execution_count": 15,
      "outputs": [
        {
          "output_type": "execute_result",
          "data": {
            "text/plain": [
              "<matplotlib.image.AxesImage at 0x7f97d2e92650>"
            ]
          },
          "metadata": {
            "tags": []
          },
          "execution_count": 15
        },
        {
          "output_type": "display_data",
          "data": {
            "image/png": "[encoded data removed]",
            "text/plain": [
              "<Figure size 432x288 with 1 Axes>"
            ]
          },
          "metadata": {
            "tags": [],
            "needs_background": "light"
          }
        }
      ]
    },
    {
      "cell_type": "code",
      "metadata": {
        "colab": {
          "base_uri": "https://localhost:8080/",
          "height": 283
        },
        "id": "GsF0PqF12FWR",
        "outputId": "771a04a9-6cfa-48d9-b94a-ec3bc43a4605"
      },
      "source": [
        "pred = hop_net(ins[1].reshape(1,-1), w, ins)\n",
        "plt.imshow(pred.reshape(8, 8))"
      ],
      "execution_count": 16,
      "outputs": [
        {
          "output_type": "execute_result",
          "data": {
            "text/plain": [
              "<matplotlib.image.AxesImage at 0x7f97d2df7990>"
            ]
          },
          "metadata": {
            "tags": []
          },
          "execution_count": 16
        },
        {
          "output_type": "display_data",
          "data": {
            "image/png": "[encoded data removed]",
            "text/plain": [
              "<Figure size 432x288 with 1 Axes>"
            ]
          },
          "metadata": {
            "tags": [],
            "needs_background": "light"
          }
        }
      ]
    },
    {
      "cell_type": "markdown",
      "metadata": {
        "id": "xDy5LLUJt1vB"
      },
      "source": [
        "### pred for input with 30% noise"
      ]
    },
    {
      "cell_type": "code",
      "metadata": {
        "colab": {
          "base_uri": "https://localhost:8080/",
          "height": 283
        },
        "id": "lz4Bxv76fpiE",
        "outputId": "ed5cc98e-c5d4-4a9a-f128-13b3d4bef0b8"
      },
      "source": [
        "pred = hop_net(add_noise(ins[0].reshape(1,-1), 0.3), w, ins)\n",
        "plt.imshow(pred.reshape(8, 8))"
      ],
      "execution_count": 17,
      "outputs": [
        {
          "output_type": "execute_result",
          "data": {
            "text/plain": [
              "<matplotlib.image.AxesImage at 0x7f97d2ddde10>"
            ]
          },
          "metadata": {
            "tags": []
          },
          "execution_count": 17
        },
        {
          "output_type": "display_data",
          "data": {
            "image/png": "[encoded data removed]",
            "text/plain": [
              "<Figure size 432x288 with 1 Axes>"
            ]
          },
          "metadata": {
            "tags": [],
            "needs_background": "light"
          }
        }
      ]
    },
    {
      "cell_type": "code",
      "metadata": {
        "colab": {
          "base_uri": "https://localhost:8080/",
          "height": 283
        },
        "id": "k50_NLzktwxP",
        "outputId": "b57c1744-380d-470d-9fa0-f72636946fcb"
      },
      "source": [
        "pred = hop_net(add_noise(ins[1].reshape(1,-1), 0.3), w, ins)\n",
        "plt.imshow(pred.reshape(8, 8))"
      ],
      "execution_count": 18,
      "outputs": [
        {
          "output_type": "execute_result",
          "data": {
            "text/plain": [
              "<matplotlib.image.AxesImage at 0x7f97d2d52210>"
            ]
          },
          "metadata": {
            "tags": []
          },
          "execution_count": 18
        },
        {
          "output_type": "display_data",
          "data": {
            "image/png": "[encoded data removed]",
            "text/plain": [
              "<Figure size 432x288 with 1 Axes>"
            ]
          },
          "metadata": {
            "tags": [],
            "needs_background": "light"
          }
        }
      ]
    },
    {
      "cell_type": "markdown",
      "metadata": {
        "id": "NdXPXJGPlTrl"
      },
      "source": [
        "### run multiple time"
      ]
    },
    {
      "cell_type": "code",
      "metadata": {
        "colab": {
          "base_uri": "https://localhost:8080/"
        },
        "id": "iKiT0icBlSLe",
        "outputId": "02c0fdbb-f15c-470d-cbd4-3059e197e223"
      },
      "source": [
        "accs = []\n",
        "sh = 0\n",
        "for i in range(len(ins)):\n",
        "  acc = 0\n",
        "  for r in range(400):\n",
        "    pred = hop_net(add_noise(ins[i].reshape(1,-1), 0.2), w, ins)\n",
        "    if not np.all(pred.reshape(8,8) == ins[i]):\n",
        "      sh = (pred)\n",
        "      plt.imshow(sh.reshape(8,8))\n",
        "      plt.show()\n",
        "      print('input : ', i)\n",
        "      for i, v in enumerate(ins):\n",
        "        print('input : ', i, ' y ham-d : ', np.sum(sh.reshape(8, 8) != v))\n",
        "    acc += int(np.all(pred.reshape(8,8) == ins[i]))/400\n",
        "  accs.append({'input':i, 'acc': round(acc, ndigits=4)})\n",
        "\n",
        "for i in accs:\n",
        "  print(i)"
      ],
      "execution_count": 19,
      "outputs": [
        {
          "output_type": "stream",
          "text": [
            "{'input': 0, 'acc': 1.0}\n",
            "{'input': 1, 'acc': 1.0}\n"
          ],
          "name": "stdout"
        }
      ]
    }
  ]
}