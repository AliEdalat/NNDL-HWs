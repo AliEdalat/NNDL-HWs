{
  "nbformat": 4,
  "nbformat_minor": 0,
  "metadata": {
    "colab": {
      "name": "NNDL_HW3_Q1.ipynb",
      "provenance": [],
      "collapsed_sections": []
    },
    "kernelspec": {
      "name": "python3",
      "display_name": "Python 3"
    },
    "language_info": {
      "name": "python"
    }
  },
  "cells": [
    {
      "cell_type": "code",
      "metadata": {
        "id": "SMXIhpi1fgB0"
      },
      "source": [
        "import numpy as np\n",
        "import matplotlib.pyplot as plt"
      ],
      "execution_count": 1,
      "outputs": []
    },
    {
      "cell_type": "code",
      "metadata": {
        "id": "sGOQFOaKgvRU"
      },
      "source": [
        "def gen_w(ins, outs):\n",
        "  res = np.zeros((63, 15))\n",
        "  for i, v in enumerate(ins):\n",
        "    res += np.matmul(v.flatten()[np.newaxis].T ,outs[i].flatten().reshape(1, -1))\n",
        "  return res"
      ],
      "execution_count": 2,
      "outputs": []
    },
    {
      "cell_type": "markdown",
      "metadata": {
        "id": "EKHOutToDYxS"
      },
      "source": [
        "### define inputs and outputs"
      ]
    },
    {
      "cell_type": "code",
      "metadata": {
        "colab": {
          "base_uri": "https://localhost:8080/",
          "height": 283
        },
        "id": "maOTWbtn5Urw",
        "outputId": "19e08d58-7d2b-4452-e6b8-f1886ac7a83b"
      },
      "source": [
        "ins0 = [[-1,-1,-1,1,-1,-1,-1], [-1,-1,-1,1,-1,-1,-1], [-1,-1,-1,1,-1,-1,-1],\n",
        "       [-1,-1,1,-1,1,-1,-1], [-1,-1,1,-1,1,-1,-1], [-1,1,1,1,1,1,-1],\n",
        "       [-1,1,-1,-1,-1,1,-1], [-1,1,-1,-1,-1,1,-1], [1,1,1,-1,1,1,1]]\n",
        "\n",
        "plt.imshow(np.array(ins0))\n"
      ],
      "execution_count": 3,
      "outputs": [
        {
          "output_type": "execute_result",
          "data": {
            "text/plain": [
              "<matplotlib.image.AxesImage at 0x7ff043c15e10>"
            ]
          },
          "metadata": {
            "tags": []
          },
          "execution_count": 3
        },
        {
          "output_type": "display_data",
          "data": {
            "image/png": "[encoded data removed]",
            "text/plain": [
              "<Figure size 432x288 with 1 Axes>"
            ]
          },
          "metadata": {
            "tags": [],
            "needs_background": "light"
          }
        }
      ]
    },
    {
      "cell_type": "code",
      "metadata": {
        "colab": {
          "base_uri": "https://localhost:8080/",
          "height": 283
        },
        "id": "hoT2CRNK7eNe",
        "outputId": "76788abd-4fbb-47e1-b6e5-4217de86a886"
      },
      "source": [
        "ins1 = [[1,1,1,1,1,1,1], [1,-1,-1,-1,-1,-1,1], [1,-1,-1,-1,-1,1,-1],\n",
        "       [1,-1,-1,-1,1,-1,-1], [1,1,1,1,-1,-1,-1], [1,-1,-1,-1,1,-1,-1],\n",
        "       [1,-1,-1,-1,-1,1,-1], [1,-1,-1,-1,-1,-1,1], [1,1,1,1,1,1,1]]\n",
        "\n",
        "plt.imshow(np.array(ins1))\n"
      ],
      "execution_count": 4,
      "outputs": [
        {
          "output_type": "execute_result",
          "data": {
            "text/plain": [
              "<matplotlib.image.AxesImage at 0x7ff03d63ad90>"
            ]
          },
          "metadata": {
            "tags": []
          },
          "execution_count": 4
        },
        {
          "output_type": "display_data",
          "data": {
            "image/png": "[encoded data removed]",
            "text/plain": [
              "<Figure size 432x288 with 1 Axes>"
            ]
          },
          "metadata": {
            "tags": [],
            "needs_background": "light"
          }
        }
      ]
    },
    {
      "cell_type": "code",
      "metadata": {
        "colab": {
          "base_uri": "https://localhost:8080/",
          "height": 283
        },
        "id": "-O0hQjpf8yzJ",
        "outputId": "156d0e70-397e-45a3-9b51-9a042c64e9ed"
      },
      "source": [
        "ins2 = [[-1,-1,1,1,1,1,-1], [-1,1,-1,-1,-1,-1,1], [1,-1,-1,-1,-1,-1,-1],\n",
        "       [1,-1,-1,-1,-1,-1,-1], [1,-1,-1,-1,-1,-1,-1], [1,-1,-1,-1,-1,-1,-1],\n",
        "       [1,-1,-1,-1,-1,-1,-1], [-1,1,-1,-1,-1,-1,1], [-1,-1,1,1,1,1,-1]]\n",
        "\n",
        "plt.imshow(np.array(ins2))\n"
      ],
      "execution_count": 5,
      "outputs": [
        {
          "output_type": "execute_result",
          "data": {
            "text/plain": [
              "<matplotlib.image.AxesImage at 0x7ff03d5c0710>"
            ]
          },
          "metadata": {
            "tags": []
          },
          "execution_count": 5
        },
        {
          "output_type": "display_data",
          "data": {
            "image/png": "[encoded data removed]",
            "text/plain": [
              "<Figure size 432x288 with 1 Axes>"
            ]
          },
          "metadata": {
            "tags": [],
            "needs_background": "light"
          }
        }
      ]
    },
    {
      "cell_type": "code",
      "metadata": {
        "colab": {
          "base_uri": "https://localhost:8080/",
          "height": 283
        },
        "id": "ZiW95LJP9ZuA",
        "outputId": "c0cf8e2c-9016-4c89-ef95-ac53159441a7"
      },
      "source": [
        "outs0 = [[-1,1,-1], [1,-1,1], [1,1,1], [1,-1,1], [1,-1,1]]\n",
        "\n",
        "plt.imshow(np.array(outs0))\n"
      ],
      "execution_count": 6,
      "outputs": [
        {
          "output_type": "execute_result",
          "data": {
            "text/plain": [
              "<matplotlib.image.AxesImage at 0x7ff03d5a6810>"
            ]
          },
          "metadata": {
            "tags": []
          },
          "execution_count": 6
        },
        {
          "output_type": "display_data",
          "data": {
            "image/png": "[encoded data removed]",
            "text/plain": [
              "<Figure size 432x288 with 1 Axes>"
            ]
          },
          "metadata": {
            "tags": [],
            "needs_background": "light"
          }
        }
      ]
    },
    {
      "cell_type": "code",
      "metadata": {
        "colab": {
          "base_uri": "https://localhost:8080/",
          "height": 283
        },
        "id": "u8hYKZmZ-I5W",
        "outputId": "cbe7a152-e5a5-4c3c-8863-e3f9826712da"
      },
      "source": [
        "outs1 = [[1,1,-1], [1,-1,1], [1,1,-1], [1,-1,1], [1,1,-1]]\n",
        "\n",
        "plt.imshow(np.array(outs1))\n"
      ],
      "execution_count": 7,
      "outputs": [
        {
          "output_type": "execute_result",
          "data": {
            "text/plain": [
              "<matplotlib.image.AxesImage at 0x7ff03d4fafd0>"
            ]
          },
          "metadata": {
            "tags": []
          },
          "execution_count": 7
        },
        {
          "output_type": "display_data",
          "data": {
            "image/png": "[encoded data removed]",
            "text/plain": [
              "<Figure size 432x288 with 1 Axes>"
            ]
          },
          "metadata": {
            "tags": [],
            "needs_background": "light"
          }
        }
      ]
    },
    {
      "cell_type": "code",
      "metadata": {
        "colab": {
          "base_uri": "https://localhost:8080/",
          "height": 283
        },
        "id": "lMZh01V0-hCB",
        "outputId": "0c5276be-8730-4c21-ba7f-42cf2090c577"
      },
      "source": [
        "outs2 = [[-1,1,1], [1,-1,-1], [1,-1,-1], [1,-1,-1], [-1,1,1]]\n",
        "\n",
        "plt.imshow(np.array(outs2))\n"
      ],
      "execution_count": 8,
      "outputs": [
        {
          "output_type": "execute_result",
          "data": {
            "text/plain": [
              "<matplotlib.image.AxesImage at 0x7ff03d4db810>"
            ]
          },
          "metadata": {
            "tags": []
          },
          "execution_count": 8
        },
        {
          "output_type": "display_data",
          "data": {
            "image/png": "[encoded data removed]",
            "text/plain": [
              "<Figure size 432x288 with 1 Axes>"
            ]
          },
          "metadata": {
            "tags": [],
            "needs_background": "light"
          }
        }
      ]
    },
    {
      "cell_type": "code",
      "metadata": {
        "id": "G7x050XN-5i2"
      },
      "source": [
        "outs = [outs0, outs1, outs2]\n",
        "ins = [ins0, ins1, ins2]\n",
        "\n",
        "ins = np.array(ins)\n",
        "outs = np.array(outs)"
      ],
      "execution_count": 9,
      "outputs": []
    },
    {
      "cell_type": "markdown",
      "metadata": {
        "id": "d6mwROxCDeiB"
      },
      "source": [
        "### learn w matrix"
      ]
    },
    {
      "cell_type": "code",
      "metadata": {
        "id": "4v9En-JY7YFw"
      },
      "source": [
        "w = gen_w(ins, outs)"
      ],
      "execution_count": 10,
      "outputs": []
    },
    {
      "cell_type": "code",
      "metadata": {
        "id": "R5wIySMMBIuk"
      },
      "source": [
        "def sign(inp):\n",
        "  res = []\n",
        "\n",
        "  for i in inp[0]:\n",
        "    if i >= 0:\n",
        "      res.append(1)\n",
        "    else:\n",
        "      res.append(-1)\n",
        "\n",
        "  return np.array(res)"
      ],
      "execution_count": 11,
      "outputs": []
    },
    {
      "cell_type": "markdown",
      "metadata": {
        "id": "tQJkeXlADJw5"
      },
      "source": [
        "### model can create correct output from inputs without noise"
      ]
    },
    {
      "cell_type": "code",
      "metadata": {
        "colab": {
          "base_uri": "https://localhost:8080/",
          "height": 1000
        },
        "id": "yvZ7AAHF_ocm",
        "outputId": "c4caf27d-0efe-46a0-fcb1-8cca4ca5a279"
      },
      "source": [
        "for i in range(len(ins)):\n",
        "  pred = sign(np.matmul(ins[i].reshape(1,-1), w)).reshape(5, 3)\n",
        "  plt.imshow(pred)\n",
        "  plt.title('prediction for input '+str(i))\n",
        "  plt.show()\n",
        "\n",
        "  plt.imshow(outs[i])\n",
        "  plt.title('output for input '+str(i))\n",
        "  plt.show()\n",
        "\n",
        "  print(pred == outs[i])\n",
        "  print(np.all(pred == outs[i]))"
      ],
      "execution_count": 12,
      "outputs": [
        {
          "output_type": "display_data",
          "data": {
            "image/png": "[encoded data removed]",
            "text/plain": [
              "<Figure size 432x288 with 1 Axes>"
            ]
          },
          "metadata": {
            "tags": [],
            "needs_background": "light"
          }
        },
        {
          "output_type": "display_data",
          "data": {
            "image/png": "[encoded data removed]",
            "text/plain": [
              "<Figure size 432x288 with 1 Axes>"
            ]
          },
          "metadata": {
            "tags": [],
            "needs_background": "light"
          }
        },
        {
          "output_type": "stream",
          "text": [
            "[[ True  True  True]\n",
            " [ True  True  True]\n",
            " [ True  True  True]\n",
            " [ True  True  True]\n",
            " [ True  True  True]]\n",
            "True\n"
          ],
          "name": "stdout"
        },
        {
          "output_type": "display_data",
          "data": {
            "image/png": "[encoded data removed]",
            "text/plain": [
              "<Figure size 432x288 with 1 Axes>"
            ]
          },
          "metadata": {
            "tags": [],
            "needs_background": "light"
          }
        },
        {
          "output_type": "display_data",
          "data": {
            "image/png": "[encoded data removed]",
            "text/plain": [
              "<Figure size 432x288 with 1 Axes>"
            ]
          },
          "metadata": {
            "tags": [],
            "needs_background": "light"
          }
        },
        {
          "output_type": "stream",
          "text": [
            "[[ True  True  True]\n",
            " [ True  True  True]\n",
            " [ True  True  True]\n",
            " [ True  True  True]\n",
            " [ True  True  True]]\n",
            "True\n"
          ],
          "name": "stdout"
        },
        {
          "output_type": "display_data",
          "data": {
            "image/png": "[encoded data removed]",
            "text/plain": [
              "<Figure size 432x288 with 1 Axes>"
            ]
          },
          "metadata": {
            "tags": [],
            "needs_background": "light"
          }
        },
        {
          "output_type": "display_data",
          "data": {
            "image/png": "[encoded data removed]",
            "text/plain": [
              "<Figure size 432x288 with 1 Axes>"
            ]
          },
          "metadata": {
            "tags": [],
            "needs_background": "light"
          }
        },
        {
          "output_type": "stream",
          "text": [
            "[[ True  True  True]\n",
            " [ True  True  True]\n",
            " [ True  True  True]\n",
            " [ True  True  True]\n",
            " [ True  True  True]]\n",
            "True\n"
          ],
          "name": "stdout"
        }
      ]
    },
    {
      "cell_type": "markdown",
      "metadata": {
        "id": "bBIYSnsIDVJ7"
      },
      "source": [
        "### add noise 10% and 25%"
      ]
    },
    {
      "cell_type": "code",
      "metadata": {
        "id": "gZeSlBPwQ6t1"
      },
      "source": [
        "def add_noise(inp, p):\n",
        "  ids = np.random.choice(len(inp[0]), int(len(inp[0])*p)+1)\n",
        "  inp_c = inp.copy()\n",
        "  for i in ids:\n",
        "    inp_c[0][i] += float((-2*inp_c[0][i])/np.abs(inp_c[0][i]))\n",
        "  return inp_c"
      ],
      "execution_count": 13,
      "outputs": []
    },
    {
      "cell_type": "code",
      "metadata": {
        "colab": {
          "base_uri": "https://localhost:8080/",
          "height": 1000
        },
        "id": "WEepxVZ3DV0n",
        "outputId": "ac0ffda7-65e3-40f7-8bc7-57ba7e0a3343"
      },
      "source": [
        "ps = [0.1, 0.25]\n",
        "for p in ps:\n",
        "  for i in range(len(ins)):\n",
        "    pred = sign(np.matmul(add_noise(ins[i].reshape(1,-1), p), w)).reshape(5, 3)\n",
        "    plt.imshow(pred)\n",
        "    plt.title('prediction for input '+str(i)+' with noise = '+str(p))\n",
        "    plt.show()\n",
        "\n",
        "    plt.imshow(outs[i])\n",
        "    plt.title('output for input '+str(i))\n",
        "    plt.show()\n",
        "\n",
        "    print(pred == outs[i])\n",
        "    print(np.all(pred == outs[i]))"
      ],
      "execution_count": 14,
      "outputs": [
        {
          "output_type": "display_data",
          "data": {
            "image/png": "[encoded data removed]",
            "text/plain": [
              "<Figure size 432x288 with 1 Axes>"
            ]
          },
          "metadata": {
            "tags": [],
            "needs_background": "light"
          }
        },
        {
          "output_type": "display_data",
          "data": {
            "image/png": "[encoded data removed]",
            "text/plain": [
              "<Figure size 432x288 with 1 Axes>"
            ]
          },
          "metadata": {
            "tags": [],
            "needs_background": "light"
          }
        },
        {
          "output_type": "stream",
          "text": [
            "[[ True  True  True]\n",
            " [ True  True  True]\n",
            " [ True  True  True]\n",
            " [ True  True  True]\n",
            " [ True  True  True]]\n",
            "True\n"
          ],
          "name": "stdout"
        },
        {
          "output_type": "display_data",
          "data": {
            "image/png": "[encoded data removed]",
            "text/plain": [
              "<Figure size 432x288 with 1 Axes>"
            ]
          },
          "metadata": {
            "tags": [],
            "needs_background": "light"
          }
        },
        {
          "output_type": "display_data",
          "data": {
            "image/png": "[encoded data removed]",
            "text/plain": [
              "<Figure size 432x288 with 1 Axes>"
            ]
          },
          "metadata": {
            "tags": [],
            "needs_background": "light"
          }
        },
        {
          "output_type": "stream",
          "text": [
            "[[ True  True  True]\n",
            " [ True  True  True]\n",
            " [ True  True  True]\n",
            " [ True  True  True]\n",
            " [ True  True  True]]\n",
            "True\n"
          ],
          "name": "stdout"
        },
        {
          "output_type": "display_data",
          "data": {
            "image/png": "[encoded data removed]",
            "text/plain": [
              "<Figure size 432x288 with 1 Axes>"
            ]
          },
          "metadata": {
            "tags": [],
            "needs_background": "light"
          }
        },
        {
          "output_type": "display_data",
          "data": {
            "image/png": "[encoded data removed]",
            "text/plain": [
              "<Figure size 432x288 with 1 Axes>"
            ]
          },
          "metadata": {
            "tags": [],
            "needs_background": "light"
          }
        },
        {
          "output_type": "stream",
          "text": [
            "[[ True  True  True]\n",
            " [ True  True  True]\n",
            " [ True  True  True]\n",
            " [ True  True  True]\n",
            " [ True  True  True]]\n",
            "True\n"
          ],
          "name": "stdout"
        },
        {
          "output_type": "display_data",
          "data": {
            "image/png": "[encoded data removed]",
            "text/plain": [
              "<Figure size 432x288 with 1 Axes>"
            ]
          },
          "metadata": {
            "tags": [],
            "needs_background": "light"
          }
        },
        {
          "output_type": "display_data",
          "data": {
            "image/png": "[encoded data removed]",
            "text/plain": [
              "<Figure size 432x288 with 1 Axes>"
            ]
          },
          "metadata": {
            "tags": [],
            "needs_background": "light"
          }
        },
        {
          "output_type": "stream",
          "text": [
            "[[ True  True  True]\n",
            " [ True  True  True]\n",
            " [ True  True  True]\n",
            " [ True  True  True]\n",
            " [ True  True  True]]\n",
            "True\n"
          ],
          "name": "stdout"
        },
        {
          "output_type": "display_data",
          "data": {
            "image/png": "[encoded data removed]",
            "text/plain": [
              "<Figure size 432x288 with 1 Axes>"
            ]
          },
          "metadata": {
            "tags": [],
            "needs_background": "light"
          }
        },
        {
          "output_type": "display_data",
          "data": {
            "image/png": "[encoded data removed]",
            "text/plain": [
              "<Figure size 432x288 with 1 Axes>"
            ]
          },
          "metadata": {
            "tags": [],
            "needs_background": "light"
          }
        },
        {
          "output_type": "stream",
          "text": [
            "[[ True  True  True]\n",
            " [ True  True  True]\n",
            " [ True  True  True]\n",
            " [ True  True  True]\n",
            " [ True  True  True]]\n",
            "True\n"
          ],
          "name": "stdout"
        },
        {
          "output_type": "display_data",
          "data": {
            "image/png": "[encoded data removed]",
            "text/plain": [
              "<Figure size 432x288 with 1 Axes>"
            ]
          },
          "metadata": {
            "tags": [],
            "needs_background": "light"
          }
        },
        {
          "output_type": "display_data",
          "data": {
            "image/png": "[encoded data removed]",
            "text/plain": [
              "<Figure size 432x288 with 1 Axes>"
            ]
          },
          "metadata": {
            "tags": [],
            "needs_background": "light"
          }
        },
        {
          "output_type": "stream",
          "text": [
            "[[ True  True  True]\n",
            " [ True  True  True]\n",
            " [ True  True  True]\n",
            " [ True  True  True]\n",
            " [ True  True  True]]\n",
            "True\n"
          ],
          "name": "stdout"
        }
      ]
    },
    {
      "cell_type": "markdown",
      "metadata": {
        "id": "Rd3HiCxAOTxh"
      },
      "source": [
        "### sucess rate for all states with noise"
      ]
    },
    {
      "cell_type": "code",
      "metadata": {
        "colab": {
          "base_uri": "https://localhost:8080/"
        },
        "id": "QkITajNIOeyG",
        "outputId": "a8b2a713-81cb-4a04-bb09-7be53847f6e6"
      },
      "source": [
        "ps = [0.1, 0.25]\n",
        "\n",
        "accs = []\n",
        "\n",
        "for p in ps:\n",
        "  for i in range(len(ins)):\n",
        "    acc = 0\n",
        "    for r in range(1000):\n",
        "      pred = sign(np.matmul(add_noise(ins[i].reshape(1,-1), p), w)).reshape(5, 3)\n",
        "      acc += int(np.all(pred == outs[i]))\n",
        "    accs.append({'input':i, 'p_noise':p, 'num of correct':acc, 'rate of correct':acc/1000})\n",
        "\n",
        "for i in accs:\n",
        "  print(i)"
      ],
      "execution_count": 15,
      "outputs": [
        {
          "output_type": "stream",
          "text": [
            "{'input': 0, 'p_noise': 0.1, 'num of correct': 1000, 'rate of correct': 1.0}\n",
            "{'input': 1, 'p_noise': 0.1, 'num of correct': 1000, 'rate of correct': 1.0}\n",
            "{'input': 2, 'p_noise': 0.1, 'num of correct': 999, 'rate of correct': 0.999}\n",
            "{'input': 0, 'p_noise': 0.25, 'num of correct': 997, 'rate of correct': 0.997}\n",
            "{'input': 1, 'p_noise': 0.25, 'num of correct': 967, 'rate of correct': 0.967}\n",
            "{'input': 2, 'p_noise': 0.25, 'num of correct': 968, 'rate of correct': 0.968}\n"
          ],
          "name": "stdout"
        }
      ]
    },
    {
      "cell_type": "markdown",
      "metadata": {
        "id": "iK_HOHjJYfuy"
      },
      "source": [
        "### remove some input 10% and 25%"
      ]
    },
    {
      "cell_type": "code",
      "metadata": {
        "id": "LvQXmH-GYx3w"
      },
      "source": [
        "def rmp(inp, p):\n",
        "  ids = np.random.choice(len(inp[0]), int(len(inp[0])*p)+1)\n",
        "  inp_c = inp.copy()\n",
        "  for i in ids:\n",
        "    inp_c[0][i] = 0\n",
        "  return inp_c"
      ],
      "execution_count": 16,
      "outputs": []
    },
    {
      "cell_type": "code",
      "metadata": {
        "colab": {
          "base_uri": "https://localhost:8080/",
          "height": 1000
        },
        "id": "-J8mxOq2YpPI",
        "outputId": "a17749b8-e02d-4ddf-87c9-1007a7b7e0b4"
      },
      "source": [
        "ps = [0.1, 0.25]\n",
        "for p in ps:\n",
        "  for i in range(len(ins)):\n",
        "    pred = sign(np.matmul(rmp(ins[i].reshape(1,-1), p), w)).reshape(5, 3)\n",
        "    plt.imshow(pred)\n",
        "    plt.title('prediction for input '+str(i)+' with noise = '+str(p))\n",
        "    plt.show()\n",
        "\n",
        "    plt.imshow(outs[i])\n",
        "    plt.title('output for input '+str(i))\n",
        "    plt.show()\n",
        "\n",
        "    print(pred == outs[i])\n",
        "    print(np.all(pred == outs[i]))"
      ],
      "execution_count": 17,
      "outputs": [
        {
          "output_type": "display_data",
          "data": {
            "image/png": "[encoded data removed]",
            "text/plain": [
              "<Figure size 432x288 with 1 Axes>"
            ]
          },
          "metadata": {
            "tags": [],
            "needs_background": "light"
          }
        },
        {
          "output_type": "display_data",
          "data": {
            "image/png": "[encoded data removed]",
            "text/plain": [
              "<Figure size 432x288 with 1 Axes>"
            ]
          },
          "metadata": {
            "tags": [],
            "needs_background": "light"
          }
        },
        {
          "output_type": "stream",
          "text": [
            "[[ True  True  True]\n",
            " [ True  True  True]\n",
            " [ True  True  True]\n",
            " [ True  True  True]\n",
            " [ True  True  True]]\n",
            "True\n"
          ],
          "name": "stdout"
        },
        {
          "output_type": "display_data",
          "data": {
            "image/png": "[encoded data removed]",
            "text/plain": [
              "<Figure size 432x288 with 1 Axes>"
            ]
          },
          "metadata": {
            "tags": [],
            "needs_background": "light"
          }
        },
        {
          "output_type": "display_data",
          "data": {
            "image/png": "[encoded data removed]",
            "text/plain": [
              "<Figure size 432x288 with 1 Axes>"
            ]
          },
          "metadata": {
            "tags": [],
            "needs_background": "light"
          }
        },
        {
          "output_type": "stream",
          "text": [
            "[[ True  True  True]\n",
            " [ True  True  True]\n",
            " [ True  True  True]\n",
            " [ True  True  True]\n",
            " [ True  True  True]]\n",
            "True\n"
          ],
          "name": "stdout"
        },
        {
          "output_type": "display_data",
          "data": {
            "image/png": "[encoded data removed]",
            "text/plain": [
              "<Figure size 432x288 with 1 Axes>"
            ]
          },
          "metadata": {
            "tags": [],
            "needs_background": "light"
          }
        },
        {
          "output_type": "display_data",
          "data": {
            "image/png": "[encoded data removed]",
            "text/plain": [
              "<Figure size 432x288 with 1 Axes>"
            ]
          },
          "metadata": {
            "tags": [],
            "needs_background": "light"
          }
        },
        {
          "output_type": "stream",
          "text": [
            "[[ True  True  True]\n",
            " [ True  True  True]\n",
            " [ True  True  True]\n",
            " [ True  True  True]\n",
            " [ True  True  True]]\n",
            "True\n"
          ],
          "name": "stdout"
        },
        {
          "output_type": "display_data",
          "data": {
            "image/png": "[encoded data removed]",
            "text/plain": [
              "<Figure size 432x288 with 1 Axes>"
            ]
          },
          "metadata": {
            "tags": [],
            "needs_background": "light"
          }
        },
        {
          "output_type": "display_data",
          "data": {
            "image/png": "[encoded data removed]",
            "text/plain": [
              "<Figure size 432x288 with 1 Axes>"
            ]
          },
          "metadata": {
            "tags": [],
            "needs_background": "light"
          }
        },
        {
          "output_type": "stream",
          "text": [
            "[[ True  True  True]\n",
            " [ True  True  True]\n",
            " [ True  True  True]\n",
            " [ True  True  True]\n",
            " [ True  True  True]]\n",
            "True\n"
          ],
          "name": "stdout"
        },
        {
          "output_type": "display_data",
          "data": {
            "image/png": "[encoded data removed]",
            "text/plain": [
              "<Figure size 432x288 with 1 Axes>"
            ]
          },
          "metadata": {
            "tags": [],
            "needs_background": "light"
          }
        },
        {
          "output_type": "display_data",
          "data": {
            "image/png": "[encoded data removed]",
            "text/plain": [
              "<Figure size 432x288 with 1 Axes>"
            ]
          },
          "metadata": {
            "tags": [],
            "needs_background": "light"
          }
        },
        {
          "output_type": "stream",
          "text": [
            "[[ True  True  True]\n",
            " [ True  True  True]\n",
            " [ True  True  True]\n",
            " [ True  True  True]\n",
            " [ True  True  True]]\n",
            "True\n"
          ],
          "name": "stdout"
        },
        {
          "output_type": "display_data",
          "data": {
            "image/png": "[encoded data removed]",
            "text/plain": [
              "<Figure size 432x288 with 1 Axes>"
            ]
          },
          "metadata": {
            "tags": [],
            "needs_background": "light"
          }
        },
        {
          "output_type": "display_data",
          "data": {
            "image/png": "[encoded data removed]",
            "text/plain": [
              "<Figure size 432x288 with 1 Axes>"
            ]
          },
          "metadata": {
            "tags": [],
            "needs_background": "light"
          }
        },
        {
          "output_type": "stream",
          "text": [
            "[[ True  True  True]\n",
            " [ True  True  True]\n",
            " [ True  True  True]\n",
            " [ True  True  True]\n",
            " [ True  True  True]]\n",
            "True\n"
          ],
          "name": "stdout"
        }
      ]
    },
    {
      "cell_type": "markdown",
      "metadata": {
        "id": "i_QqkY_zUddl"
      },
      "source": [
        "### sucess rate for all states with removing"
      ]
    },
    {
      "cell_type": "code",
      "metadata": {
        "colab": {
          "base_uri": "https://localhost:8080/"
        },
        "id": "wmvI3GfjUd8G",
        "outputId": "60ad3342-a7df-49fb-d869-22ae4c87c09c"
      },
      "source": [
        "ps = [0.1, 0.25]\n",
        "\n",
        "accs = []\n",
        "\n",
        "for p in ps:\n",
        "  for i in range(len(ins)):\n",
        "    acc = 0\n",
        "    for r in range(1000):\n",
        "      pred = sign(np.matmul(rmp(ins[i].reshape(1,-1), p), w)).reshape(5, 3)\n",
        "      acc += int(np.all(pred == outs[i]))\n",
        "    accs.append({'input':i, 'p_remove':p, 'num of correct':acc, 'rate of correct':acc/1000})\n",
        "\n",
        "for i in accs:\n",
        "  print(i)"
      ],
      "execution_count": 18,
      "outputs": [
        {
          "output_type": "stream",
          "text": [
            "{'input': 0, 'p_remove': 0.1, 'num of correct': 1000, 'rate of correct': 1.0}\n",
            "{'input': 1, 'p_remove': 0.1, 'num of correct': 1000, 'rate of correct': 1.0}\n",
            "{'input': 2, 'p_remove': 0.1, 'num of correct': 1000, 'rate of correct': 1.0}\n",
            "{'input': 0, 'p_remove': 0.25, 'num of correct': 1000, 'rate of correct': 1.0}\n",
            "{'input': 1, 'p_remove': 0.25, 'num of correct': 1000, 'rate of correct': 1.0}\n",
            "{'input': 2, 'p_remove': 0.25, 'num of correct': 1000, 'rate of correct': 1.0}\n"
          ],
          "name": "stdout"
        }
      ]
    }
  ]
}