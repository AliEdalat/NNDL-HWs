{
  "nbformat": 4,
  "nbformat_minor": 0,
  "metadata": {
    "colab": {
      "name": "NNDL_HW3_Q4.ipynb",
      "provenance": [],
      "collapsed_sections": []
    },
    "kernelspec": {
      "name": "python3",
      "display_name": "Python 3"
    },
    "language_info": {
      "name": "python"
    }
  },
  "cells": [
    {
      "cell_type": "code",
      "metadata": {
        "id": "jl1eH13munTH"
      },
      "source": [
        "import numpy as np\n",
        "import matplotlib.pyplot as plt"
      ],
      "execution_count": 1,
      "outputs": []
    },
    {
      "cell_type": "code",
      "metadata": {
        "id": "9uYXej4hvSCR"
      },
      "source": [
        "def gen_w(ins, outs):\n",
        "  res = np.zeros((15, 3))\n",
        "  for i, v in enumerate(ins):\n",
        "    res += np.matmul(v.flatten()[np.newaxis].T ,outs[i].flatten().reshape(1, -1))\n",
        "  return res"
      ],
      "execution_count": 2,
      "outputs": []
    },
    {
      "cell_type": "code",
      "metadata": {
        "id": "WL_lCTT321jA"
      },
      "source": [
        "def sign(inp):\n",
        "  res = []\n",
        "\n",
        "  for i in inp[0]:\n",
        "    if i >= 0:\n",
        "      res.append(1)\n",
        "    else:\n",
        "      res.append(-1)\n",
        "\n",
        "  return np.array(res)"
      ],
      "execution_count": 3,
      "outputs": []
    },
    {
      "cell_type": "code",
      "metadata": {
        "id": "QzQo46nG25BT"
      },
      "source": [
        "def add_noise(inp, p):\n",
        "  ids = np.random.choice(len(inp[0]), int(len(inp[0])*p)+1)\n",
        "  # print(len(ids))\n",
        "  inp_c = inp.copy()\n",
        "  for i in ids:\n",
        "    inp_c[0][i] += float((-2*inp_c[0][i])/np.abs(inp_c[0][i]))\n",
        "  return inp_c"
      ],
      "execution_count": 4,
      "outputs": []
    },
    {
      "cell_type": "code",
      "metadata": {
        "id": "hua5YO2AfhLq"
      },
      "source": [
        "# add_noise(ins[0].flatten().reshape(1, -1), 0.3)"
      ],
      "execution_count": 5,
      "outputs": []
    },
    {
      "cell_type": "code",
      "metadata": {
        "id": "-DT4wKVE28un"
      },
      "source": [
        "def act(c, i):\n",
        "  if c > 0:\n",
        "    return 1\n",
        "  elif c == 0:\n",
        "    return i\n",
        "  else:\n",
        "    return -1"
      ],
      "execution_count": 6,
      "outputs": []
    },
    {
      "cell_type": "markdown",
      "metadata": {
        "id": "GNzwDjk1XENK"
      },
      "source": [
        "### A, B, C"
      ]
    },
    {
      "cell_type": "code",
      "metadata": {
        "colab": {
          "base_uri": "https://localhost:8080/",
          "height": 283
        },
        "id": "9fjKi28iXIhH",
        "outputId": "a08b0c3a-5fee-4dcb-b4ee-e7876b5a6239"
      },
      "source": [
        "ina = [[-1, 1, -1], [1, -1, 1], [1, 1, 1], [1, -1, 1], [1, -1, 1]]\n",
        "\n",
        "plt.imshow(np.array(ina))"
      ],
      "execution_count": 7,
      "outputs": [
        {
          "output_type": "execute_result",
          "data": {
            "text/plain": [
              "<matplotlib.image.AxesImage at 0x7f38a9f76550>"
            ]
          },
          "metadata": {
            "tags": []
          },
          "execution_count": 7
        },
        {
          "output_type": "display_data",
          "data": {
            "image/png": "[encoded data removed]",
            "text/plain": [
              "<Figure size 432x288 with 1 Axes>"
            ]
          },
          "metadata": {
            "tags": [],
            "needs_background": "light"
          }
        }
      ]
    },
    {
      "cell_type": "code",
      "metadata": {
        "colab": {
          "base_uri": "https://localhost:8080/",
          "height": 283
        },
        "id": "ICHMbhAuX-B8",
        "outputId": "fd876e0d-a43b-4fac-a7f4-d0aeb2d6502c"
      },
      "source": [
        "inb = [[1, 1, -1], [1, -1, 1], [1, 1, -1], [1, -1, 1], [1, 1, -1]]\n",
        "\n",
        "plt.imshow(np.array(inb))"
      ],
      "execution_count": 8,
      "outputs": [
        {
          "output_type": "execute_result",
          "data": {
            "text/plain": [
              "<matplotlib.image.AxesImage at 0x7f38a9ef99d0>"
            ]
          },
          "metadata": {
            "tags": []
          },
          "execution_count": 8
        },
        {
          "output_type": "display_data",
          "data": {
            "image/png": "[encoded data removed]",
            "text/plain": [
              "<Figure size 432x288 with 1 Axes>"
            ]
          },
          "metadata": {
            "tags": [],
            "needs_background": "light"
          }
        }
      ]
    },
    {
      "cell_type": "code",
      "metadata": {
        "colab": {
          "base_uri": "https://localhost:8080/",
          "height": 283
        },
        "id": "_3dGUfPhYQU2",
        "outputId": "b441a174-c48a-47e9-b215-c204a27e5ed4"
      },
      "source": [
        "inc = [[-1, 1, 1], [1, -1, -1], [1, -1, -1], [1, -1, -1], [-1, 1, 1]]\n",
        "\n",
        "plt.imshow(np.array(inc))"
      ],
      "execution_count": 9,
      "outputs": [
        {
          "output_type": "execute_result",
          "data": {
            "text/plain": [
              "<matplotlib.image.AxesImage at 0x7f38a9a22650>"
            ]
          },
          "metadata": {
            "tags": []
          },
          "execution_count": 9
        },
        {
          "output_type": "display_data",
          "data": {
            "image/png": "[encoded data removed]",
            "text/plain": [
              "<Figure size 432x288 with 1 Axes>"
            ]
          },
          "metadata": {
            "tags": [],
            "needs_background": "light"
          }
        }
      ]
    },
    {
      "cell_type": "code",
      "metadata": {
        "id": "x3JO8CCGYj9i"
      },
      "source": [
        "ins = np.array([ina, inb, inc])\n",
        "outs = np.array([[-1, -1, -1], [-1, -1, 1], [-1, 1, -1]])\n",
        "w = gen_w(ins, outs)"
      ],
      "execution_count": 10,
      "outputs": []
    },
    {
      "cell_type": "code",
      "metadata": {
        "colab": {
          "base_uri": "https://localhost:8080/"
        },
        "id": "ut0DVhIhM3Ay",
        "outputId": "0191292b-9511-42bb-f07c-5128f75fd140"
      },
      "source": [
        "print(w)"
      ],
      "execution_count": 11,
      "outputs": [
        {
          "output_type": "stream",
          "text": [
            "[[ 1. -1.  3.]\n",
            " [-3. -1. -1.]\n",
            " [ 1.  3. -1.]\n",
            " [-3. -1. -1.]\n",
            " [ 3.  1.  1.]\n",
            " [-1. -3.  1.]\n",
            " [-3. -1. -1.]\n",
            " [-1. -3.  1.]\n",
            " [ 1. -1. -1.]\n",
            " [-3. -1. -1.]\n",
            " [ 3.  1.  1.]\n",
            " [-1. -3.  1.]\n",
            " [-1. -3.  1.]\n",
            " [-1.  1.  1.]\n",
            " [-1.  1. -3.]]\n"
          ],
          "name": "stdout"
        }
      ]
    },
    {
      "cell_type": "code",
      "metadata": {
        "colab": {
          "base_uri": "https://localhost:8080/",
          "height": 865
        },
        "id": "3L7Pg10hcWfS",
        "outputId": "4eaef201-5578-402d-8404-236e31be13d0"
      },
      "source": [
        "for i, v in enumerate(ins):\n",
        "  pred = sign(np.matmul(v.flatten().reshape(1, -1), w))\n",
        "  plt.imshow(v)\n",
        "  plt.show()\n",
        "  print(pred == outs[i])\n",
        "  print(np.all(pred == outs[i]))"
      ],
      "execution_count": 12,
      "outputs": [
        {
          "output_type": "display_data",
          "data": {
            "image/png": "[encoded data removed]",
            "text/plain": [
              "<Figure size 432x288 with 1 Axes>"
            ]
          },
          "metadata": {
            "tags": [],
            "needs_background": "light"
          }
        },
        {
          "output_type": "stream",
          "text": [
            "[ True  True  True]\n",
            "True\n"
          ],
          "name": "stdout"
        },
        {
          "output_type": "display_data",
          "data": {
            "image/png": "[encoded data removed]",
            "text/plain": [
              "<Figure size 432x288 with 1 Axes>"
            ]
          },
          "metadata": {
            "tags": [],
            "needs_background": "light"
          }
        },
        {
          "output_type": "stream",
          "text": [
            "[ True  True  True]\n",
            "True\n"
          ],
          "name": "stdout"
        },
        {
          "output_type": "display_data",
          "data": {
            "image/png": "[encoded data removed]",
            "text/plain": [
              "<Figure size 432x288 with 1 Axes>"
            ]
          },
          "metadata": {
            "tags": [],
            "needs_background": "light"
          }
        },
        {
          "output_type": "stream",
          "text": [
            "[ True  True  True]\n",
            "True\n"
          ],
          "name": "stdout"
        }
      ]
    },
    {
      "cell_type": "code",
      "metadata": {
        "colab": {
          "base_uri": "https://localhost:8080/",
          "height": 865
        },
        "id": "w1X07fVWdmCb",
        "outputId": "6bc78019-5d79-4653-a24f-4a4a4aefbf90"
      },
      "source": [
        "for i, v in enumerate(outs):\n",
        "  pred = sign(np.matmul(v.flatten().reshape(1, -1), w.T))\n",
        "  print('y: ', v)\n",
        "  plt.imshow(pred.reshape(5,3))\n",
        "  plt.show()\n",
        "  print('pred == ins[', i, '] : ', np.all(pred.reshape(5,3) == ins[i]))"
      ],
      "execution_count": 13,
      "outputs": [
        {
          "output_type": "stream",
          "text": [
            "y:  [-1 -1 -1]\n"
          ],
          "name": "stdout"
        },
        {
          "output_type": "display_data",
          "data": {
            "image/png": "[encoded data removed]",
            "text/plain": [
              "<Figure size 432x288 with 1 Axes>"
            ]
          },
          "metadata": {
            "tags": [],
            "needs_background": "light"
          }
        },
        {
          "output_type": "stream",
          "text": [
            "pred == ins[ 0 ] :  True\n",
            "y:  [-1 -1  1]\n"
          ],
          "name": "stdout"
        },
        {
          "output_type": "display_data",
          "data": {
            "image/png": "[encoded data removed]",
            "text/plain": [
              "<Figure size 432x288 with 1 Axes>"
            ]
          },
          "metadata": {
            "tags": [],
            "needs_background": "light"
          }
        },
        {
          "output_type": "stream",
          "text": [
            "pred == ins[ 1 ] :  True\n",
            "y:  [-1  1 -1]\n"
          ],
          "name": "stdout"
        },
        {
          "output_type": "display_data",
          "data": {
            "image/png": "[encoded data removed]",
            "text/plain": [
              "<Figure size 432x288 with 1 Axes>"
            ]
          },
          "metadata": {
            "tags": [],
            "needs_background": "light"
          }
        },
        {
          "output_type": "stream",
          "text": [
            "pred == ins[ 2 ] :  True\n"
          ],
          "name": "stdout"
        }
      ]
    },
    {
      "cell_type": "code",
      "metadata": {
        "id": "4f8FHrZFjlZI"
      },
      "source": [
        "def find(inp, inps):\n",
        "  for i, v in enumerate(inps):\n",
        "    if np.all(v.flatten().reshape(1, -1)==inp.flatten().reshape(1, -1)):\n",
        "      return i\n",
        "  return -1"
      ],
      "execution_count": 14,
      "outputs": []
    },
    {
      "cell_type": "code",
      "metadata": {
        "id": "lZY_LdVIaNtR"
      },
      "source": [
        "def restore(x, y, w, ins, outs):\n",
        "  xl = x.copy()\n",
        "  yl = y.copy()\n",
        "  yp = y.copy()\n",
        "  xp = x.copy()\n",
        "\n",
        "  while True:\n",
        "    # print(xl, yl)\n",
        "    temp = np.matmul(yl.flatten().reshape(1, -1), w.T)\n",
        "    for i, p in enumerate(temp[0]):\n",
        "      xl[0][i] = act(p, xl[0][i])\n",
        "\n",
        "    res = find(xl, ins)\n",
        "    if res >= 0:\n",
        "      return xl, outs[res]\n",
        "\n",
        "    temp = np.matmul(xl.flatten().reshape(1, -1), w)\n",
        "    for i, p in enumerate(temp[0]):\n",
        "      yl[0][i] = act(p, yl[0][i])\n",
        "\n",
        "    res = find(yl, outs)\n",
        "    if res >= 0:\n",
        "      return ins[res], yl\n",
        "\n",
        "    if np.all(yl.flatten().reshape(1, -1) == yp.flatten().reshape(1, -1)) or np.all(xl.flatten().reshape(1, -1) == xp.flatten().reshape(1, -1)):\n",
        "      return xl, yl\n",
        "\n",
        "    yp = yl.copy()\n",
        "    xp = xl.copy()"
      ],
      "execution_count": 15,
      "outputs": []
    },
    {
      "cell_type": "markdown",
      "metadata": {
        "id": "c192H5afdYZr"
      },
      "source": [
        "### inputs without noise"
      ]
    },
    {
      "cell_type": "code",
      "metadata": {
        "colab": {
          "base_uri": "https://localhost:8080/",
          "height": 865
        },
        "id": "ru65MblwddZt",
        "outputId": "9f1c245c-7c5b-4f20-c320-dbe3162c210d"
      },
      "source": [
        "for i in range(len(ins)):\n",
        "  y = outs[i].flatten().reshape(1, -1)\n",
        "  x = ins[i].flatten().reshape(1, -1)\n",
        "  px, py = restore(x, y, w, ins, outs)\n",
        "  print('input : ', i)\n",
        "  plt.imshow(px.reshape(5,3))\n",
        "  plt.show()\n",
        "  print(py)\n"
      ],
      "execution_count": 16,
      "outputs": [
        {
          "output_type": "stream",
          "text": [
            "input :  0\n"
          ],
          "name": "stdout"
        },
        {
          "output_type": "display_data",
          "data": {
            "image/png": "[encoded data removed]",
            "text/plain": [
              "<Figure size 432x288 with 1 Axes>"
            ]
          },
          "metadata": {
            "tags": [],
            "needs_background": "light"
          }
        },
        {
          "output_type": "stream",
          "text": [
            "[-1 -1 -1]\n",
            "input :  1\n"
          ],
          "name": "stdout"
        },
        {
          "output_type": "display_data",
          "data": {
            "image/png": "[encoded data removed]",
            "text/plain": [
              "<Figure size 432x288 with 1 Axes>"
            ]
          },
          "metadata": {
            "tags": [],
            "needs_background": "light"
          }
        },
        {
          "output_type": "stream",
          "text": [
            "[-1 -1  1]\n",
            "input :  2\n"
          ],
          "name": "stdout"
        },
        {
          "output_type": "display_data",
          "data": {
            "image/png": "[encoded data removed]",
            "text/plain": [
              "<Figure size 432x288 with 1 Axes>"
            ]
          },
          "metadata": {
            "tags": [],
            "needs_background": "light"
          }
        },
        {
          "output_type": "stream",
          "text": [
            "[-1  1 -1]\n"
          ],
          "name": "stdout"
        }
      ]
    },
    {
      "cell_type": "markdown",
      "metadata": {
        "id": "fLqFIdUn31pQ"
      },
      "source": [
        "### noise 10% and 40%"
      ]
    },
    {
      "cell_type": "code",
      "metadata": {
        "id": "y8i-MnG9kiEr"
      },
      "source": [
        "accs = []\n",
        "for i in range(len(ins)):\n",
        "  acc = 0\n",
        "  for j in range(100):\n",
        "    y = add_noise(outs[i].flatten().reshape(1, -1), 0.4)\n",
        "    x = add_noise(ins[i].flatten().reshape(1, -1), 0.4)\n",
        "    px, py =restore(x, y, w, ins, outs)\n",
        "    acc += int(find(py, outs) >= 0)\n",
        "  accs.append(acc/100)"
      ],
      "execution_count": 17,
      "outputs": []
    },
    {
      "cell_type": "code",
      "metadata": {
        "colab": {
          "base_uri": "https://localhost:8080/"
        },
        "id": "KR1QbKa5qVbj",
        "outputId": "38527d1c-bb44-4d14-c995-f13edfcca8dd"
      },
      "source": [
        "accs"
      ],
      "execution_count": 18,
      "outputs": [
        {
          "output_type": "execute_result",
          "data": {
            "text/plain": [
              "[0.54, 0.49, 0.54]"
            ]
          },
          "metadata": {
            "tags": []
          },
          "execution_count": 18
        }
      ]
    },
    {
      "cell_type": "code",
      "metadata": {
        "id": "1P9Foz1p3aVU"
      },
      "source": [
        "accs = []\n",
        "for i in range(len(ins)):\n",
        "  acc = 0\n",
        "  for j in range(100):\n",
        "    y = add_noise(outs[i].flatten().reshape(1, -1), 0.1)\n",
        "    x = add_noise(ins[i].flatten().reshape(1, -1), 0.1)\n",
        "    px, py =restore(x, y, w, ins, outs)\n",
        "    acc += int(find(py, outs) >= 0)\n",
        "  accs.append(acc/100)"
      ],
      "execution_count": 19,
      "outputs": []
    },
    {
      "cell_type": "code",
      "metadata": {
        "colab": {
          "base_uri": "https://localhost:8080/"
        },
        "id": "dCXWCo_e3fTS",
        "outputId": "e0d3946e-43c6-4e2e-9098-8ee9b2f0ca87"
      },
      "source": [
        "accs"
      ],
      "execution_count": 20,
      "outputs": [
        {
          "output_type": "execute_result",
          "data": {
            "text/plain": [
              "[0.68, 0.68, 0.66]"
            ]
          },
          "metadata": {
            "tags": []
          },
          "execution_count": 20
        }
      ]
    },
    {
      "cell_type": "markdown",
      "metadata": {
        "id": "LQraQSk53_j6"
      },
      "source": [
        "#(0, -1, -1)"
      ]
    },
    {
      "cell_type": "code",
      "metadata": {
        "id": "7q3vENSL38Vk"
      },
      "source": [
        "px, py = restore(np.zeros((15)).flatten().reshape(1, -1), np.array([0,-1,-1]).flatten().reshape(1, -1), w, ins, outs)"
      ],
      "execution_count": 21,
      "outputs": []
    },
    {
      "cell_type": "code",
      "metadata": {
        "colab": {
          "base_uri": "https://localhost:8080/",
          "height": 299
        },
        "id": "o3CycfvZ4UFm",
        "outputId": "de177199-adf4-4b17-cf17-9609f111b720"
      },
      "source": [
        "print('pred y: ', py)\n",
        "plt.imshow(px.reshape(5,3))\n",
        "plt.title('pred x')\n",
        "plt.show()"
      ],
      "execution_count": 22,
      "outputs": [
        {
          "output_type": "stream",
          "text": [
            "pred y:  [-1 -1 -1]\n"
          ],
          "name": "stdout"
        },
        {
          "output_type": "display_data",
          "data": {
            "image/png": "[encoded data removed]",
            "text/plain": [
              "<Figure size 432x288 with 1 Axes>"
            ]
          },
          "metadata": {
            "tags": [],
            "needs_background": "light"
          }
        }
      ]
    },
    {
      "cell_type": "markdown",
      "metadata": {
        "id": "Gh8pRVxC45bb"
      },
      "source": [
        "### 8 char"
      ]
    },
    {
      "cell_type": "code",
      "metadata": {
        "id": "QhA-x5x947q8",
        "colab": {
          "base_uri": "https://localhost:8080/",
          "height": 283
        },
        "outputId": "3d22ba71-7dcb-4869-d0e6-b0f1fa373d03"
      },
      "source": [
        "ind = [[1, 1, -1], [1, -1, 1], [1, -1, 1], [1, -1, 1], [1, 1, -1]]\n",
        "\n",
        "plt.imshow(np.array(ind))"
      ],
      "execution_count": 23,
      "outputs": [
        {
          "output_type": "execute_result",
          "data": {
            "text/plain": [
              "<matplotlib.image.AxesImage at 0x7f38a95c1510>"
            ]
          },
          "metadata": {
            "tags": []
          },
          "execution_count": 23
        },
        {
          "output_type": "display_data",
          "data": {
            "image/png": "[encoded data removed]",
            "text/plain": [
              "<Figure size 432x288 with 1 Axes>"
            ]
          },
          "metadata": {
            "tags": [],
            "needs_background": "light"
          }
        }
      ]
    },
    {
      "cell_type": "code",
      "metadata": {
        "colab": {
          "base_uri": "https://localhost:8080/",
          "height": 283
        },
        "id": "NIhecSmXEA3i",
        "outputId": "e8eac539-d3df-4fe3-ecc0-3f9abacb7b9c"
      },
      "source": [
        "ine = [[1, 1, 1], [1, -1, -1], [1, 1, -1], [1, -1, -1], [1, 1, 1]]\n",
        "\n",
        "plt.imshow(np.array(ine))"
      ],
      "execution_count": 24,
      "outputs": [
        {
          "output_type": "execute_result",
          "data": {
            "text/plain": [
              "<matplotlib.image.AxesImage at 0x7f38a96593d0>"
            ]
          },
          "metadata": {
            "tags": []
          },
          "execution_count": 24
        },
        {
          "output_type": "display_data",
          "data": {
            "image/png": "[encoded data removed]",
            "text/plain": [
              "<Figure size 432x288 with 1 Axes>"
            ]
          },
          "metadata": {
            "tags": [],
            "needs_background": "light"
          }
        }
      ]
    },
    {
      "cell_type": "code",
      "metadata": {
        "colab": {
          "base_uri": "https://localhost:8080/",
          "height": 283
        },
        "id": "BIMloQ0DENcz",
        "outputId": "e1709d8f-ad0c-42f1-99b6-1b33f65e6bd1"
      },
      "source": [
        "inf = [[1, 1, 1], [1, -1, -1], [1, 1, -1], [1, -1, -1], [1, -1, -1]]\n",
        "\n",
        "plt.imshow(np.array(inf))"
      ],
      "execution_count": 25,
      "outputs": [
        {
          "output_type": "execute_result",
          "data": {
            "text/plain": [
              "<matplotlib.image.AxesImage at 0x7f38a97b51d0>"
            ]
          },
          "metadata": {
            "tags": []
          },
          "execution_count": 25
        },
        {
          "output_type": "display_data",
          "data": {
            "image/png": "[encoded data removed]",
            "text/plain": [
              "<Figure size 432x288 with 1 Axes>"
            ]
          },
          "metadata": {
            "tags": [],
            "needs_background": "light"
          }
        }
      ]
    },
    {
      "cell_type": "code",
      "metadata": {
        "colab": {
          "base_uri": "https://localhost:8080/",
          "height": 283
        },
        "id": "yRu2odQlEgg7",
        "outputId": "03461d4b-7873-4da8-af3a-3d81083eb2c5"
      },
      "source": [
        "ing = [[-1, 1, 1], [1, -1, -1], [1, -1, 1], [1, -1, 1], [-1, 1, 1]]\n",
        "\n",
        "plt.imshow(np.array(ing))"
      ],
      "execution_count": 26,
      "outputs": [
        {
          "output_type": "execute_result",
          "data": {
            "text/plain": [
              "<matplotlib.image.AxesImage at 0x7f38a99d98d0>"
            ]
          },
          "metadata": {
            "tags": []
          },
          "execution_count": 26
        },
        {
          "output_type": "display_data",
          "data": {
            "image/png": "[encoded data removed]",
            "text/plain": [
              "<Figure size 432x288 with 1 Axes>"
            ]
          },
          "metadata": {
            "tags": [],
            "needs_background": "light"
          }
        }
      ]
    },
    {
      "cell_type": "code",
      "metadata": {
        "colab": {
          "base_uri": "https://localhost:8080/",
          "height": 283
        },
        "id": "3GwtxVCbE1NO",
        "outputId": "9b574963-8221-4072-c2f9-aae77b5673b9"
      },
      "source": [
        "inh = [[1, -1, 1], [1, -1, 1], [1, 1, 1], [1, -1, 1], [1, -1, 1]]\n",
        "\n",
        "plt.imshow(np.array(inh))"
      ],
      "execution_count": 27,
      "outputs": [
        {
          "output_type": "execute_result",
          "data": {
            "text/plain": [
              "<matplotlib.image.AxesImage at 0x7f38a97c4f90>"
            ]
          },
          "metadata": {
            "tags": []
          },
          "execution_count": 27
        },
        {
          "output_type": "display_data",
          "data": {
            "image/png": "[encoded data removed]",
            "text/plain": [
              "<Figure size 432x288 with 1 Axes>"
            ]
          },
          "metadata": {
            "tags": [],
            "needs_background": "light"
          }
        }
      ]
    },
    {
      "cell_type": "code",
      "metadata": {
        "id": "GxnnLvshFDPW"
      },
      "source": [
        "ins = np.array([ina, inb, inc, ind, ine, inf, ing, inh])\n",
        "outs = np.array([[-1, -1, -1], [-1, -1, 1], [-1, 1, -1], [-1, 1, 1], [1, -1, -1], [1, -1, 1], [1, 1, -1], [1, 1, 1]])"
      ],
      "execution_count": 28,
      "outputs": []
    },
    {
      "cell_type": "code",
      "metadata": {
        "id": "x6rznGZPMnrx"
      },
      "source": [
        "w = gen_w(ins, outs)"
      ],
      "execution_count": 29,
      "outputs": []
    },
    {
      "cell_type": "code",
      "metadata": {
        "colab": {
          "base_uri": "https://localhost:8080/"
        },
        "id": "cK8AWk4wMx04",
        "outputId": "f96e8490-9e4c-4e48-aebc-94a9fccacfea"
      },
      "source": [
        "print(w)"
      ],
      "execution_count": 30,
      "outputs": [
        {
          "output_type": "stream",
          "text": [
            "[[ 2. -2.  6.]\n",
            " [-2. -2. -2.]\n",
            " [ 6.  2. -2.]\n",
            " [ 0.  0.  0.]\n",
            " [ 0.  0.  0.]\n",
            " [-4.  0.  4.]\n",
            " [ 0.  0.  0.]\n",
            " [ 2. -6.  2.]\n",
            " [ 0.  4.  0.]\n",
            " [ 0.  0.  0.]\n",
            " [ 0.  0.  0.]\n",
            " [-2.  2.  2.]\n",
            " [ 0. -4.  4.]\n",
            " [-2.  2. -2.]\n",
            " [ 2.  2. -6.]]\n"
          ],
          "name": "stdout"
        }
      ]
    },
    {
      "cell_type": "code",
      "metadata": {
        "colab": {
          "base_uri": "https://localhost:8080/",
          "height": 1000
        },
        "id": "E9McJG1AMoik",
        "outputId": "f43bc7c2-68a0-4aea-ce02-b33183719f01"
      },
      "source": [
        "for i, v in enumerate(ins):\n",
        "  pred = sign(np.matmul(v.flatten().reshape(1, -1), w))\n",
        "  plt.imshow(v)\n",
        "  plt.show()\n",
        "  print(pred == outs[i])\n",
        "  print(np.all(pred == outs[i]))"
      ],
      "execution_count": 31,
      "outputs": [
        {
          "output_type": "display_data",
          "data": {
            "image/png": "[encoded data removed]",
            "text/plain": [
              "<Figure size 432x288 with 1 Axes>"
            ]
          },
          "metadata": {
            "tags": [],
            "needs_background": "light"
          }
        },
        {
          "output_type": "stream",
          "text": [
            "[ True  True False]\n",
            "False\n"
          ],
          "name": "stdout"
        },
        {
          "output_type": "display_data",
          "data": {
            "image/png": "[encoded data removed]",
            "text/plain": [
              "<Figure size 432x288 with 1 Axes>"
            ]
          },
          "metadata": {
            "tags": [],
            "needs_background": "light"
          }
        },
        {
          "output_type": "stream",
          "text": [
            "[ True  True  True]\n",
            "True\n"
          ],
          "name": "stdout"
        },
        {
          "output_type": "display_data",
          "data": {
            "image/png": "[encoded data removed]",
            "text/plain": [
              "<Figure size 432x288 with 1 Axes>"
            ]
          },
          "metadata": {
            "tags": [],
            "needs_background": "light"
          }
        },
        {
          "output_type": "stream",
          "text": [
            "[False  True  True]\n",
            "False\n"
          ],
          "name": "stdout"
        },
        {
          "output_type": "display_data",
          "data": {
            "image/png": "[encoded data removed]",
            "text/plain": [
              "<Figure size 432x288 with 1 Axes>"
            ]
          },
          "metadata": {
            "tags": [],
            "needs_background": "light"
          }
        },
        {
          "output_type": "stream",
          "text": [
            "[ True  True  True]\n",
            "True\n"
          ],
          "name": "stdout"
        },
        {
          "output_type": "display_data",
          "data": {
            "image/png": "[encoded data removed]",
            "text/plain": [
              "<Figure size 432x288 with 1 Axes>"
            ]
          },
          "metadata": {
            "tags": [],
            "needs_background": "light"
          }
        },
        {
          "output_type": "stream",
          "text": [
            "[ True  True  True]\n",
            "True\n"
          ],
          "name": "stdout"
        },
        {
          "output_type": "display_data",
          "data": {
            "image/png": "[encoded data removed]",
            "text/plain": [
              "<Figure size 432x288 with 1 Axes>"
            ]
          },
          "metadata": {
            "tags": [],
            "needs_background": "light"
          }
        },
        {
          "output_type": "stream",
          "text": [
            "[ True  True  True]\n",
            "True\n"
          ],
          "name": "stdout"
        },
        {
          "output_type": "display_data",
          "data": {
            "image/png": "[encoded data removed]",
            "text/plain": [
              "<Figure size 432x288 with 1 Axes>"
            ]
          },
          "metadata": {
            "tags": [],
            "needs_background": "light"
          }
        },
        {
          "output_type": "stream",
          "text": [
            "[ True  True  True]\n",
            "True\n"
          ],
          "name": "stdout"
        },
        {
          "output_type": "display_data",
          "data": {
            "image/png": "[encoded data removed]",
            "text/plain": [
              "<Figure size 432x288 with 1 Axes>"
            ]
          },
          "metadata": {
            "tags": [],
            "needs_background": "light"
          }
        },
        {
          "output_type": "stream",
          "text": [
            "[ True False  True]\n",
            "False\n"
          ],
          "name": "stdout"
        }
      ]
    },
    {
      "cell_type": "code",
      "metadata": {
        "colab": {
          "base_uri": "https://localhost:8080/",
          "height": 1000
        },
        "id": "NjAZDNDIMysr",
        "outputId": "20781f76-6f6b-4608-b837-009b5b0bac73"
      },
      "source": [
        "for i, v in enumerate(outs):\n",
        "  pred = sign(np.matmul(v.flatten().reshape(1, -1), w.T))\n",
        "  print('y: ', v)\n",
        "  plt.imshow(pred.reshape(5,3))\n",
        "  plt.show()\n",
        "  print('pred == ins[', i, '] : ', np.all(pred.reshape(5,3) == ins[i]))"
      ],
      "execution_count": 32,
      "outputs": [
        {
          "output_type": "stream",
          "text": [
            "y:  [-1 -1 -1]\n"
          ],
          "name": "stdout"
        },
        {
          "output_type": "display_data",
          "data": {
            "image/png": "[encoded data removed]",
            "text/plain": [
              "<Figure size 432x288 with 1 Axes>"
            ]
          },
          "metadata": {
            "tags": [],
            "needs_background": "light"
          }
        },
        {
          "output_type": "stream",
          "text": [
            "pred == ins[ 0 ] :  False\n",
            "y:  [-1 -1  1]\n"
          ],
          "name": "stdout"
        },
        {
          "output_type": "display_data",
          "data": {
            "image/png": "[encoded data removed]",
            "text/plain": [
              "<Figure size 432x288 with 1 Axes>"
            ]
          },
          "metadata": {
            "tags": [],
            "needs_background": "light"
          }
        },
        {
          "output_type": "stream",
          "text": [
            "pred == ins[ 1 ] :  False\n",
            "y:  [-1  1 -1]\n"
          ],
          "name": "stdout"
        },
        {
          "output_type": "display_data",
          "data": {
            "image/png": "[encoded data removed]",
            "text/plain": [
              "<Figure size 432x288 with 1 Axes>"
            ]
          },
          "metadata": {
            "tags": [],
            "needs_background": "light"
          }
        },
        {
          "output_type": "stream",
          "text": [
            "pred == ins[ 2 ] :  False\n",
            "y:  [-1  1  1]\n"
          ],
          "name": "stdout"
        },
        {
          "output_type": "display_data",
          "data": {
            "image/png": "[encoded data removed]",
            "text/plain": [
              "<Figure size 432x288 with 1 Axes>"
            ]
          },
          "metadata": {
            "tags": [],
            "needs_background": "light"
          }
        },
        {
          "output_type": "stream",
          "text": [
            "pred == ins[ 3 ] :  False\n",
            "y:  [ 1 -1 -1]\n"
          ],
          "name": "stdout"
        },
        {
          "output_type": "display_data",
          "data": {
            "image/png": "[encoded data removed]",
            "text/plain": [
              "<Figure size 432x288 with 1 Axes>"
            ]
          },
          "metadata": {
            "tags": [],
            "needs_background": "light"
          }
        },
        {
          "output_type": "stream",
          "text": [
            "pred == ins[ 4 ] :  False\n",
            "y:  [ 1 -1  1]\n"
          ],
          "name": "stdout"
        },
        {
          "output_type": "display_data",
          "data": {
            "image/png": "[encoded data removed]",
            "text/plain": [
              "<Figure size 432x288 with 1 Axes>"
            ]
          },
          "metadata": {
            "tags": [],
            "needs_background": "light"
          }
        },
        {
          "output_type": "stream",
          "text": [
            "pred == ins[ 5 ] :  False\n",
            "y:  [ 1  1 -1]\n"
          ],
          "name": "stdout"
        },
        {
          "output_type": "display_data",
          "data": {
            "image/png": "[encoded data removed]",
            "text/plain": [
              "<Figure size 432x288 with 1 Axes>"
            ]
          },
          "metadata": {
            "tags": [],
            "needs_background": "light"
          }
        },
        {
          "output_type": "stream",
          "text": [
            "pred == ins[ 6 ] :  False\n",
            "y:  [1 1 1]\n"
          ],
          "name": "stdout"
        },
        {
          "output_type": "display_data",
          "data": {
            "image/png": "[encoded data removed]",
            "text/plain": [
              "<Figure size 432x288 with 1 Axes>"
            ]
          },
          "metadata": {
            "tags": [],
            "needs_background": "light"
          }
        },
        {
          "output_type": "stream",
          "text": [
            "pred == ins[ 7 ] :  False\n"
          ],
          "name": "stdout"
        }
      ]
    }
  ]
}