{
  "nbformat": 4,
  "nbformat_minor": 0,
  "metadata": {
    "colab": {
      "name": "NNDL_MiniPro_Q4.ipynb",
      "provenance": [],
      "collapsed_sections": []
    },
    "kernelspec": {
      "name": "python3",
      "display_name": "Python 3"
    },
    "language_info": {
      "name": "python"
    }
  },
  "cells": [
    {
      "cell_type": "code",
      "metadata": {
        "id": "2GkEW5j96Wou"
      },
      "source": [
        "import numpy as np\n",
        "import keras\n",
        "import cv2\n",
        "from keras.applications import Xception # TensorFlow ONLY\n",
        "from keras.applications import imagenet_utils\n",
        "from keras.applications.inception_v3 import preprocess_input\n",
        "from keras.preprocessing.image import img_to_array\n",
        "from keras.preprocessing.image import load_img"
      ],
      "execution_count": null,
      "outputs": []
    },
    {
      "cell_type": "code",
      "metadata": {
        "id": "tysjf--ptBrb"
      },
      "source": [
        "# the required input dimensions for the ImageNet Xception pre-trained network\n",
        "inputShape = (299, 299)\n",
        "preprocess = preprocess_input"
      ],
      "execution_count": null,
      "outputs": []
    },
    {
      "cell_type": "code",
      "metadata": {
        "id": "40ysfVWopJUw"
      },
      "source": [
        "model = Xception(weights=\"imagenet\")"
      ],
      "execution_count": null,
      "outputs": []
    },
    {
      "cell_type": "code",
      "metadata": {
        "id": "7-sOm8LdtVWE"
      },
      "source": [
        "image = load_img('IMG_20210507_121338_3[1].jpg', target_size=inputShape)\n",
        "image = img_to_array(image)\n",
        "\n",
        "# add batch size\n",
        "image = np.expand_dims(image, axis=0)\n",
        "# pre-process the image using the appropriate function based on the\n",
        "# model that has been loaded (i.e., mean subtraction, scaling, etc.)\n",
        "image = preprocess(image)"
      ],
      "execution_count": null,
      "outputs": []
    },
    {
      "cell_type": "code",
      "metadata": {
        "colab": {
          "base_uri": "https://localhost:8080/"
        },
        "id": "BX8M-AE4uCfm",
        "outputId": "1f3f3ee7-7583-457d-bf19-fa5721106559"
      },
      "source": [
        "preds = model.predict(image)\n",
        "P = imagenet_utils.decode_predictions(preds)\n",
        "# loop over the predictions and display the predictions +\n",
        "# probabilities to our terminal\n",
        "for (i, (imagenetID, label, prob)) in enumerate(P[0][:3]):\n",
        "\tprint(\"{}. {}: {:.2f}%\".format(i + 1, label, prob * 100))"
      ],
      "execution_count": null,
      "outputs": [
        {
          "output_type": "stream",
          "text": [
            "1. monitor: 14.34%\n",
            "2. desktop_computer: 10.41%\n",
            "3. modem: 10.28%\n"
          ],
          "name": "stdout"
        }
      ]
    },
    {
      "cell_type": "code",
      "metadata": {
        "colab": {
          "base_uri": "https://localhost:8080/"
        },
        "id": "O3ATebkNxReE",
        "outputId": "d9d441cd-f206-4516-df06-ef7aecc05091"
      },
      "source": [
        "from google.colab.patches import cv2_imshow\n",
        "\n",
        "orig = cv2.imread('IMG_20210507_121338_3[1].jpg')\n",
        "for i in range(3):\n",
        "  (imagenetID, label, prob) = P[0][i]\n",
        "  cv2.putText(orig, \"Label: {}, {:.2f}%\".format(label, prob * 100),\n",
        "    (10*(i+1), 30*(i+1)), cv2.FONT_HERSHEY_SIMPLEX, 0.8, (0, 0, 255), 2)\n",
        "cv2.imwrite('classification.png', orig)\n",
        "cv2.waitKey(0)"
      ],
      "execution_count": null,
      "outputs": [
        {
          "output_type": "execute_result",
          "data": {
            "text/plain": [
              "-1"
            ]
          },
          "metadata": {
            "tags": []
          },
          "execution_count": 6
        }
      ]
    }
  ]
}